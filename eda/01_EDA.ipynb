{
 "cells": [
  {
   "cell_type": "markdown",
   "id": "23bf6c09",
   "metadata": {},
   "source": [
    "<a href=\"https://colab.research.google.com/github/tcapelle/edu/blob/main/mlops-001/lesson1/01_EDA.ipynb\" target=\"_parent\"><img src=\"https://colab.research.google.com/assets/colab-badge.svg\" alt=\"Open In Colab\"/></a>\n",
    "<!--- @wandbcode{course-lesson1} -->"
   ]
  },
  {
   "cell_type": "markdown",
   "id": "a212966e-8f38-4b4a-8e00-2985120439ca",
   "metadata": {},
   "source": [
    "# EDA \n",
    "<!--- @wandbcode{course-lesson1} -->\n",
    "\n",
    "In this notebook, we will download a sample of the [BDD100K](https://www.bdd100k.com/) semantic segmentation dataset and use W&B Artifacts and Tables to version and analyze our data. "
   ]
  },
  {
   "cell_type": "code",
   "execution_count": 1,
   "id": "4130ae29",
   "metadata": {},
   "outputs": [],
   "source": [
    "# install wandb\n",
    "!pip install wandb -qq"
   ]
  },
  {
   "cell_type": "code",
   "execution_count": 2,
   "id": "3e6e5a06",
   "metadata": {
    "collapsed": true
   },
   "outputs": [
    {
     "name": "stdout",
     "output_type": "stream",
     "text": [
      "Requirement already satisfied: fastai in /Users/jobdulo/opt/anaconda3/envs/fastai/lib/python3.7/site-packages (2.7.10)\n",
      "Requirement already satisfied: pip in /Users/jobdulo/opt/anaconda3/envs/fastai/lib/python3.7/site-packages (from fastai) (22.2.2)\n",
      "Requirement already satisfied: requests in /Users/jobdulo/opt/anaconda3/envs/fastai/lib/python3.7/site-packages (from fastai) (2.28.1)\n",
      "Requirement already satisfied: pillow>6.0.0 in /Users/jobdulo/opt/anaconda3/envs/fastai/lib/python3.7/site-packages (from fastai) (9.2.0)\n",
      "Requirement already satisfied: pandas in /Users/jobdulo/opt/anaconda3/envs/fastai/lib/python3.7/site-packages (from fastai) (1.3.5)\n",
      "Requirement already satisfied: pyyaml in /Users/jobdulo/opt/anaconda3/envs/fastai/lib/python3.7/site-packages (from fastai) (6.0)\n",
      "Requirement already satisfied: spacy<4 in /Users/jobdulo/opt/anaconda3/envs/fastai/lib/python3.7/site-packages (from fastai) (3.3.1)\n",
      "Requirement already satisfied: fastprogress>=0.2.4 in /Users/jobdulo/opt/anaconda3/envs/fastai/lib/python3.7/site-packages (from fastai) (1.0.3)\n",
      "Requirement already satisfied: torch<1.14,>=1.7 in /Users/jobdulo/opt/anaconda3/envs/fastai/lib/python3.7/site-packages (from fastai) (1.13.0)\n",
      "Requirement already satisfied: scipy in /Users/jobdulo/opt/anaconda3/envs/fastai/lib/python3.7/site-packages (from fastai) (1.7.3)\n",
      "Requirement already satisfied: fastcore<1.6,>=1.4.5 in /Users/jobdulo/opt/anaconda3/envs/fastai/lib/python3.7/site-packages (from fastai) (1.5.27)\n",
      "Requirement already satisfied: scikit-learn in /Users/jobdulo/opt/anaconda3/envs/fastai/lib/python3.7/site-packages (from fastai) (1.0.2)\n",
      "Requirement already satisfied: fastdownload<2,>=0.0.5 in /Users/jobdulo/opt/anaconda3/envs/fastai/lib/python3.7/site-packages (from fastai) (0.0.7)\n",
      "Requirement already satisfied: packaging in /Users/jobdulo/opt/anaconda3/envs/fastai/lib/python3.7/site-packages (from fastai) (21.3)\n",
      "Requirement already satisfied: matplotlib in /Users/jobdulo/opt/anaconda3/envs/fastai/lib/python3.7/site-packages (from fastai) (3.5.3)\n",
      "Requirement already satisfied: torchvision>=0.8.2 in /Users/jobdulo/opt/anaconda3/envs/fastai/lib/python3.7/site-packages (from fastai) (0.14.0)\n",
      "Requirement already satisfied: spacy-loggers<2.0.0,>=1.0.0 in /Users/jobdulo/opt/anaconda3/envs/fastai/lib/python3.7/site-packages (from spacy<4->fastai) (1.0.1)\n",
      "Collecting pydantic!=1.8,!=1.8.1,<1.9.0,>=1.7.4\n",
      "  Using cached pydantic-1.8.2-cp37-cp37m-macosx_10_9_x86_64.whl (2.6 MB)\n",
      "Requirement already satisfied: tqdm<5.0.0,>=4.38.0 in /Users/jobdulo/opt/anaconda3/envs/fastai/lib/python3.7/site-packages (from spacy<4->fastai) (4.64.1)\n",
      "Requirement already satisfied: langcodes<4.0.0,>=3.2.0 in /Users/jobdulo/opt/anaconda3/envs/fastai/lib/python3.7/site-packages (from spacy<4->fastai) (3.3.0)\n",
      "Requirement already satisfied: catalogue<2.1.0,>=2.0.6 in /Users/jobdulo/opt/anaconda3/envs/fastai/lib/python3.7/site-packages (from spacy<4->fastai) (2.0.7)\n",
      "Requirement already satisfied: pathy>=0.3.5 in /Users/jobdulo/opt/anaconda3/envs/fastai/lib/python3.7/site-packages (from spacy<4->fastai) (0.6.1)\n",
      "Requirement already satisfied: murmurhash<1.1.0,>=0.28.0 in /Users/jobdulo/opt/anaconda3/envs/fastai/lib/python3.7/site-packages (from spacy<4->fastai) (1.0.7)\n",
      "Requirement already satisfied: preshed<3.1.0,>=3.0.2 in /Users/jobdulo/opt/anaconda3/envs/fastai/lib/python3.7/site-packages (from spacy<4->fastai) (3.0.6)\n",
      "Requirement already satisfied: spacy-legacy<3.1.0,>=3.0.9 in /Users/jobdulo/opt/anaconda3/envs/fastai/lib/python3.7/site-packages (from spacy<4->fastai) (3.0.9)\n",
      "Requirement already satisfied: thinc<8.1.0,>=8.0.14 in /Users/jobdulo/opt/anaconda3/envs/fastai/lib/python3.7/site-packages (from spacy<4->fastai) (8.0.15)\n",
      "Requirement already satisfied: typing-extensions<4.2.0,>=3.7.4 in /Users/jobdulo/opt/anaconda3/envs/fastai/lib/python3.7/site-packages (from spacy<4->fastai) (3.10.0.2)\n",
      "Requirement already satisfied: srsly<3.0.0,>=2.4.3 in /Users/jobdulo/opt/anaconda3/envs/fastai/lib/python3.7/site-packages (from spacy<4->fastai) (2.4.3)\n",
      "Requirement already satisfied: typer<0.5.0,>=0.3.0 in /Users/jobdulo/opt/anaconda3/envs/fastai/lib/python3.7/site-packages (from spacy<4->fastai) (0.4.1)\n",
      "Requirement already satisfied: numpy>=1.15.0 in /Users/jobdulo/opt/anaconda3/envs/fastai/lib/python3.7/site-packages (from spacy<4->fastai) (1.21.5)\n",
      "Requirement already satisfied: jinja2 in /Users/jobdulo/opt/anaconda3/envs/fastai/lib/python3.7/site-packages (from spacy<4->fastai) (3.1.2)\n",
      "Requirement already satisfied: cymem<2.1.0,>=2.0.2 in /Users/jobdulo/opt/anaconda3/envs/fastai/lib/python3.7/site-packages (from spacy<4->fastai) (2.0.6)\n",
      "Requirement already satisfied: wasabi<1.1.0,>=0.9.1 in /Users/jobdulo/opt/anaconda3/envs/fastai/lib/python3.7/site-packages (from spacy<4->fastai) (0.9.1)\n",
      "Requirement already satisfied: blis<0.8.0,>=0.4.0 in /Users/jobdulo/opt/anaconda3/envs/fastai/lib/python3.7/site-packages (from spacy<4->fastai) (0.7.7)\n",
      "Requirement already satisfied: setuptools in /Users/jobdulo/opt/anaconda3/envs/fastai/lib/python3.7/site-packages (from spacy<4->fastai) (65.5.0)\n",
      "Requirement already satisfied: pyparsing!=3.0.5,>=2.0.2 in /Users/jobdulo/opt/anaconda3/envs/fastai/lib/python3.7/site-packages (from packaging->fastai) (3.0.9)\n",
      "Requirement already satisfied: certifi>=2017.4.17 in /Users/jobdulo/opt/anaconda3/envs/fastai/lib/python3.7/site-packages (from requests->fastai) (2022.9.24)\n",
      "Requirement already satisfied: idna<4,>=2.5 in /Users/jobdulo/opt/anaconda3/envs/fastai/lib/python3.7/site-packages (from requests->fastai) (3.4)\n",
      "Requirement already satisfied: charset-normalizer<3,>=2 in /Users/jobdulo/opt/anaconda3/envs/fastai/lib/python3.7/site-packages (from requests->fastai) (2.0.4)\n",
      "Requirement already satisfied: urllib3<1.27,>=1.21.1 in /Users/jobdulo/opt/anaconda3/envs/fastai/lib/python3.7/site-packages (from requests->fastai) (1.26.12)\n",
      "Requirement already satisfied: cycler>=0.10 in /Users/jobdulo/opt/anaconda3/envs/fastai/lib/python3.7/site-packages (from matplotlib->fastai) (0.11.0)\n",
      "Requirement already satisfied: fonttools>=4.22.0 in /Users/jobdulo/opt/anaconda3/envs/fastai/lib/python3.7/site-packages (from matplotlib->fastai) (4.25.0)\n",
      "Requirement already satisfied: python-dateutil>=2.7 in /Users/jobdulo/opt/anaconda3/envs/fastai/lib/python3.7/site-packages (from matplotlib->fastai) (2.8.2)\n",
      "Requirement already satisfied: kiwisolver>=1.0.1 in /Users/jobdulo/opt/anaconda3/envs/fastai/lib/python3.7/site-packages (from matplotlib->fastai) (1.4.2)\n",
      "Requirement already satisfied: pytz>=2017.3 in /Users/jobdulo/opt/anaconda3/envs/fastai/lib/python3.7/site-packages (from pandas->fastai) (2022.1)\n",
      "Requirement already satisfied: threadpoolctl>=2.0.0 in /Users/jobdulo/opt/anaconda3/envs/fastai/lib/python3.7/site-packages (from scikit-learn->fastai) (2.2.0)\n",
      "Requirement already satisfied: joblib>=0.11 in /Users/jobdulo/opt/anaconda3/envs/fastai/lib/python3.7/site-packages (from scikit-learn->fastai) (1.1.1)\n",
      "Requirement already satisfied: zipp>=0.5 in /Users/jobdulo/opt/anaconda3/envs/fastai/lib/python3.7/site-packages (from catalogue<2.1.0,>=2.0.6->spacy<4->fastai) (3.8.0)\n",
      "Requirement already satisfied: smart-open<6.0.0,>=5.0.0 in /Users/jobdulo/opt/anaconda3/envs/fastai/lib/python3.7/site-packages (from pathy>=0.3.5->spacy<4->fastai) (5.2.1)\n",
      "Requirement already satisfied: six>=1.5 in /Users/jobdulo/opt/anaconda3/envs/fastai/lib/python3.7/site-packages (from python-dateutil>=2.7->matplotlib->fastai) (1.16.0)\n",
      "Requirement already satisfied: click<9.0.0,>=7.1.1 in /Users/jobdulo/opt/anaconda3/envs/fastai/lib/python3.7/site-packages (from typer<0.5.0,>=0.3.0->spacy<4->fastai) (8.0.4)\n",
      "Requirement already satisfied: MarkupSafe>=2.0 in /Users/jobdulo/opt/anaconda3/envs/fastai/lib/python3.7/site-packages (from jinja2->spacy<4->fastai) (2.1.1)\n",
      "Requirement already satisfied: importlib-metadata in /Users/jobdulo/opt/anaconda3/envs/fastai/lib/python3.7/site-packages (from click<9.0.0,>=7.1.1->typer<0.5.0,>=0.3.0->spacy<4->fastai) (4.11.3)\n",
      "Installing collected packages: pydantic\n",
      "  Attempting uninstall: pydantic\n",
      "    Found existing installation: pydantic 1.9.0\n",
      "    Uninstalling pydantic-1.9.0:\n",
      "      Successfully uninstalled pydantic-1.9.0\n"
     ]
    },
    {
     "name": "stdout",
     "output_type": "stream",
     "text": [
      "Successfully installed pydantic-1.8.2\r\n"
     ]
    }
   ],
   "source": [
    "!pip install fastai"
   ]
  },
  {
   "cell_type": "code",
   "execution_count": 3,
   "id": "5ef1839b",
   "metadata": {},
   "outputs": [],
   "source": [
    "import os\n",
    "# os.environ['KMP_DUPLICATE_LIB_OK']='True'"
   ]
  },
  {
   "cell_type": "code",
   "execution_count": 17,
   "id": "17490b58-a8f2-489e-9c71-ca0e078591dc",
   "metadata": {},
   "outputs": [],
   "source": [
    "DEBUG = False # set this flag to True to use a small subset of data for testing"
   ]
  },
  {
   "cell_type": "code",
   "execution_count": 5,
   "id": "6a8167b1",
   "metadata": {},
   "outputs": [],
   "source": [
    "# import torchvision"
   ]
  },
  {
   "cell_type": "code",
   "execution_count": 5,
   "id": "7ee88efc-3257-4ed7-bb8c-1695f4a8c828",
   "metadata": {},
   "outputs": [],
   "source": [
    "from fastai.vision.all import *\n",
    "import params\n",
    "\n",
    "import wandb"
   ]
  },
  {
   "cell_type": "markdown",
   "id": "055764da-7252-4796-86af-585007dea288",
   "metadata": {},
   "source": [
    "We have defined some global configuration parameters in the `params.py` file. `ENTITY` should correspond to your W&B Team name if you work in a team, replace it with `None` if you work individually. \n",
    "\n",
    "In the section below, we will use `untar_data` function from `fastai` to download and unzip our datasets. "
   ]
  },
  {
   "cell_type": "code",
   "execution_count": 21,
   "id": "0bae3750-a653-4265-9c52-c1f9af9b8393",
   "metadata": {},
   "outputs": [],
   "source": [
    "URL = 'https://storage.googleapis.com/wandb_course/bdd_simple_1k.zip'"
   ]
  },
  {
   "cell_type": "code",
   "execution_count": 22,
   "id": "0da50d19-860a-4b39-8320-a376c483da04",
   "metadata": {},
   "outputs": [
    {
     "data": {
      "text/html": [
       "\n",
       "<style>\n",
       "    /* Turns off some styling */\n",
       "    progress {\n",
       "        /* gets rid of default border in Firefox and Opera. */\n",
       "        border: none;\n",
       "        /* Needs to be in here for Safari polyfill so background images work as expected. */\n",
       "        background-size: auto;\n",
       "    }\n",
       "    progress:not([value]), progress:not([value])::-webkit-progress-bar {\n",
       "        background: repeating-linear-gradient(45deg, #7e7e7e, #7e7e7e 10px, #5c5c5c 10px, #5c5c5c 20px);\n",
       "    }\n",
       "    .progress-bar-interrupted, .progress-bar-interrupted::-webkit-progress-bar {\n",
       "        background: #F44336;\n",
       "    }\n",
       "</style>\n"
      ],
      "text/plain": [
       "<IPython.core.display.HTML object>"
      ]
     },
     "metadata": {},
     "output_type": "display_data"
    },
    {
     "data": {
      "text/html": [
       "\n",
       "    <div>\n",
       "      <progress value='122470400' class='' max='122467691' style='width:300px; height:20px; vertical-align: middle;'></progress>\n",
       "      100.00% [122470400/122467691 02:15&lt;00:00]\n",
       "    </div>\n",
       "    "
      ],
      "text/plain": [
       "<IPython.core.display.HTML object>"
      ]
     },
     "metadata": {},
     "output_type": "display_data"
    }
   ],
   "source": [
    "path = Path(untar_data(URL, force_download=True))"
   ]
  },
  {
   "cell_type": "code",
   "execution_count": 23,
   "id": "6df5b830-e685-4a0d-81e8-6dda10697dff",
   "metadata": {},
   "outputs": [
    {
     "data": {
      "text/plain": [
       "(#3) [Path('/Users/jobdulo/.fastai/data/bdd_simple_1k/images'),Path('/Users/jobdulo/.fastai/data/bdd_simple_1k/labels'),Path('/Users/jobdulo/.fastai/data/bdd_simple_1k/LICENSE.txt')]"
      ]
     },
     "execution_count": 23,
     "metadata": {},
     "output_type": "execute_result"
    }
   ],
   "source": [
    "path.ls()"
   ]
  },
  {
   "cell_type": "markdown",
   "id": "db6708ae-abaa-432f-83b0-028a99222096",
   "metadata": {},
   "source": [
    "Here we define several functions to help us process the data and upload it as a `Table` to W&B. "
   ]
  },
  {
   "cell_type": "code",
   "execution_count": 24,
   "id": "5779f980-4d9b-4645-9726-642a25334e10",
   "metadata": {},
   "outputs": [],
   "source": [
    "def label_func(fname):\n",
    "    return (fname.parent.parent/\"labels\")/f\"{fname.stem}_mask.png\"\n",
    "\n",
    "def get_classes_per_image(mask_data, class_labels):\n",
    "    unique = list(np.unique(mask_data))\n",
    "    result_dict = {}\n",
    "    for _class in class_labels.keys():\n",
    "        result_dict[class_labels[_class]] = int(_class in unique)\n",
    "    return result_dict\n",
    "\n",
    "def _create_table(image_files, class_labels):\n",
    "    \"Create a table with the dataset\"\n",
    "    labels = [str(class_labels[_lab]) for _lab in list(class_labels)]\n",
    "    table = wandb.Table(columns=[\"File_Name\", \"Images\", \"Split\"] + labels)\n",
    "    \n",
    "    for i, image_file in progress_bar(enumerate(image_files), total=len(image_files)):\n",
    "        image = Image.open(image_file)\n",
    "        mask_data = np.array(Image.open(label_func(image_file)))\n",
    "        class_in_image = get_classes_per_image(mask_data, class_labels)\n",
    "        table.add_data(\n",
    "            str(image_file.name),\n",
    "            wandb.Image(\n",
    "                    image,\n",
    "                    masks={\n",
    "                        \"predictions\": {\n",
    "                            \"mask_data\": mask_data,\n",
    "                            \"class_labels\": class_labels,\n",
    "                        }\n",
    "                    }\n",
    "            ),\n",
    "            \"None\", # we don't have a dataset split yet\n",
    "            *[class_in_image[_lab] for _lab in labels]\n",
    "        )\n",
    "    \n",
    "    return table"
   ]
  },
  {
   "cell_type": "markdown",
   "id": "eac085cd-2409-4baf-a887-108e3dca65b9",
   "metadata": {},
   "source": [
    "We will start a new W&B `run` and put everything into a raw Artifact."
   ]
  },
  {
   "cell_type": "code",
   "execution_count": 25,
   "id": "e87141b3-b9b7-4a40-839c-64c835484f48",
   "metadata": {},
   "outputs": [
    {
     "data": {
      "text/html": [
       "Tracking run with wandb version 0.13.6"
      ],
      "text/plain": [
       "<IPython.core.display.HTML object>"
      ]
     },
     "metadata": {},
     "output_type": "display_data"
    },
    {
     "data": {
      "text/html": [
       "Run data is saved locally in <code>/Users/jobdulo/Documents/mlops/eda/wandb/run-20221207_210549-39qc3zjk</code>"
      ],
      "text/plain": [
       "<IPython.core.display.HTML object>"
      ]
     },
     "metadata": {},
     "output_type": "display_data"
    },
    {
     "data": {
      "text/html": [
       "Syncing run <strong><a href=\"https://wandb.ai/dulo/mlops-course-001/runs/39qc3zjk\" target=\"_blank\">fallen-yogurt-4</a></strong> to <a href=\"https://wandb.ai/dulo/mlops-course-001\" target=\"_blank\">Weights & Biases</a> (<a href=\"https://wandb.me/run\" target=\"_blank\">docs</a>)<br/>"
      ],
      "text/plain": [
       "<IPython.core.display.HTML object>"
      ]
     },
     "metadata": {},
     "output_type": "display_data"
    }
   ],
   "source": [
    "run = wandb.init(project=params.WANDB_PROJECT, entity=params.ENTITY, job_type=\"upload\")\n",
    "raw_data_at = wandb.Artifact(params.RAW_DATA_AT, type=\"raw_data\")"
   ]
  },
  {
   "cell_type": "code",
   "execution_count": 26,
   "id": "f2de6968-b465-4e2e-aaf1-787a48c7981e",
   "metadata": {},
   "outputs": [
    {
     "data": {
      "text/plain": [
       "<ManifestEntry digest: X+6ZFkDOlnKesJCNt20yRg==>"
      ]
     },
     "execution_count": 26,
     "metadata": {},
     "output_type": "execute_result"
    }
   ],
   "source": [
    "raw_data_at.add_file(path/'LICENSE.txt', name='LICENSE.txt')"
   ]
  },
  {
   "cell_type": "markdown",
   "id": "10addc71-201d-4c29-af23-9a5d9a5cbddf",
   "metadata": {},
   "source": [
    "Let's add the images and label masks."
   ]
  },
  {
   "cell_type": "code",
   "execution_count": 27,
   "id": "e2e29a83-ec60-4518-8b73-078f1719bc8f",
   "metadata": {},
   "outputs": [
    {
     "name": "stderr",
     "output_type": "stream",
     "text": [
      "\u001b[34m\u001b[1mwandb\u001b[0m: Adding directory to artifact (/Users/jobdulo/.fastai/data/bdd_simple_1k/images)... Done. 0.2s\n",
      "\u001b[34m\u001b[1mwandb\u001b[0m: Adding directory to artifact (/Users/jobdulo/.fastai/data/bdd_simple_1k/labels)... Done. 0.1s\n"
     ]
    }
   ],
   "source": [
    "raw_data_at.add_dir(path/'images', name='images')\n",
    "raw_data_at.add_dir(path/'labels', name='labels')"
   ]
  },
  {
   "cell_type": "markdown",
   "id": "01b989eb-36da-4194-9a34-88126749f210",
   "metadata": {},
   "source": [
    "Let's get the file names of images in our dataset and use the function we defined above to create a W&B Table. "
   ]
  },
  {
   "cell_type": "code",
   "execution_count": 28,
   "id": "aeaa2dae-1b2b-4c70-8dcf-b079f4f05b86",
   "metadata": {},
   "outputs": [],
   "source": [
    "image_files = get_image_files(path/\"images\", recurse=False)\n",
    "\n",
    "# sample a subset if DEBUG\n",
    "if DEBUG: image_files = image_files[:10]"
   ]
  },
  {
   "cell_type": "code",
   "execution_count": 29,
   "id": "451ff088-4cb3-4739-b4e8-308d03645ffe",
   "metadata": {},
   "outputs": [
    {
     "data": {
      "text/html": [
       "\n",
       "<style>\n",
       "    /* Turns off some styling */\n",
       "    progress {\n",
       "        /* gets rid of default border in Firefox and Opera. */\n",
       "        border: none;\n",
       "        /* Needs to be in here for Safari polyfill so background images work as expected. */\n",
       "        background-size: auto;\n",
       "    }\n",
       "    progress:not([value]), progress:not([value])::-webkit-progress-bar {\n",
       "        background: repeating-linear-gradient(45deg, #7e7e7e, #7e7e7e 10px, #5c5c5c 10px, #5c5c5c 20px);\n",
       "    }\n",
       "    .progress-bar-interrupted, .progress-bar-interrupted::-webkit-progress-bar {\n",
       "        background: #F44336;\n",
       "    }\n",
       "</style>\n"
      ],
      "text/plain": [
       "<IPython.core.display.HTML object>"
      ]
     },
     "metadata": {},
     "output_type": "display_data"
    },
    {
     "data": {
      "text/html": [
       "\n",
       "    <div>\n",
       "      <progress value='1000' class='' max='1000' style='width:300px; height:20px; vertical-align: middle;'></progress>\n",
       "      100.00% [1000/1000 02:18&lt;00:00]\n",
       "    </div>\n",
       "    "
      ],
      "text/plain": [
       "<IPython.core.display.HTML object>"
      ]
     },
     "metadata": {},
     "output_type": "display_data"
    }
   ],
   "source": [
    "table = _create_table(image_files, params.BDD_CLASSES)"
   ]
  },
  {
   "cell_type": "markdown",
   "id": "ff73cd37-6a72-44f7-a5cf-6abe7d327092",
   "metadata": {},
   "source": [
    "Finally, we will add the Table to our Artifact, log it to W&B and finish our `run`. "
   ]
  },
  {
   "cell_type": "code",
   "execution_count": 30,
   "id": "d4183e9c-75e4-48a8-a2e1-0f4492c0b5d0",
   "metadata": {},
   "outputs": [
    {
     "data": {
      "text/plain": [
       "<ManifestEntry digest: F5yFgTRRX5lCkKD8ifExQQ==>"
      ]
     },
     "execution_count": 30,
     "metadata": {},
     "output_type": "execute_result"
    }
   ],
   "source": [
    "raw_data_at.add(table, \"eda_table\")"
   ]
  },
  {
   "cell_type": "code",
   "execution_count": 31,
   "id": "e81ed9c8-6905-4841-a9f7-e3f3b9b6d927",
   "metadata": {},
   "outputs": [
    {
     "data": {
      "text/html": [
       "Waiting for W&B process to finish... <strong style=\"color:green\">(success).</strong>"
      ],
      "text/plain": [
       "<IPython.core.display.HTML object>"
      ]
     },
     "metadata": {},
     "output_type": "display_data"
    },
    {
     "data": {
      "text/html": [
       "Synced <strong style=\"color:#cdcd00\">fallen-yogurt-4</strong>: <a href=\"https://wandb.ai/dulo/mlops-course-001/runs/39qc3zjk\" target=\"_blank\">https://wandb.ai/dulo/mlops-course-001/runs/39qc3zjk</a><br/>Synced 6 W&B file(s), 0 media file(s), 4007 artifact file(s) and 0 other file(s)"
      ],
      "text/plain": [
       "<IPython.core.display.HTML object>"
      ]
     },
     "metadata": {},
     "output_type": "display_data"
    },
    {
     "data": {
      "text/html": [
       "Find logs at: <code>./wandb/run-20221207_210549-39qc3zjk/logs</code>"
      ],
      "text/plain": [
       "<IPython.core.display.HTML object>"
      ]
     },
     "metadata": {},
     "output_type": "display_data"
    }
   ],
   "source": [
    "run.log_artifact(raw_data_at)\n",
    "run.finish()"
   ]
  },
  {
   "cell_type": "code",
   "execution_count": 32,
   "id": "7681a0db",
   "metadata": {},
   "outputs": [
    {
     "name": "stdout",
     "output_type": "stream",
     "text": [
      "Done\n"
     ]
    }
   ],
   "source": [
    "print(\"Done\")"
   ]
  },
  {
   "cell_type": "code",
   "execution_count": null,
   "id": "4f8eafd6",
   "metadata": {},
   "outputs": [],
   "source": []
  }
 ],
 "metadata": {
  "kernelspec": {
   "display_name": "Python 3 (ipykernel)",
   "language": "python",
   "name": "python3"
  },
  "language_info": {
   "codemirror_mode": {
    "name": "ipython",
    "version": 3
   },
   "file_extension": ".py",
   "mimetype": "text/x-python",
   "name": "python",
   "nbconvert_exporter": "python",
   "pygments_lexer": "ipython3",
   "version": "3.7.15"
  }
 },
 "nbformat": 4,
 "nbformat_minor": 5
}
