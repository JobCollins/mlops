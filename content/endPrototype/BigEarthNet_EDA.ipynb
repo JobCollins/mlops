{
 "cells": [
  {
   "cell_type": "code",
   "execution_count": 1,
   "id": "c77eb2dd",
   "metadata": {},
   "outputs": [],
   "source": [
    "from fastai.vision.all import *\n",
    "import params\n",
    "import wandb"
   ]
  },
  {
   "cell_type": "code",
   "execution_count": 2,
   "id": "caff7472",
   "metadata": {},
   "outputs": [],
   "source": [
    "URL = 'file:///Users/jobdulo/Downloads/earth_sem_seg.zip'"
   ]
  },
  {
   "cell_type": "code",
   "execution_count": 3,
   "id": "fa90ee09",
   "metadata": {},
   "outputs": [],
   "source": [
    "path = untar_data(URL, force_download=False)"
   ]
  },
  {
   "cell_type": "code",
   "execution_count": 4,
   "id": "4b54c944",
   "metadata": {},
   "outputs": [
    {
     "data": {
      "text/plain": [
       "(#9) [Path('/Users/jobdulo/.fastai/data/earth_sem_seg/Tile 8'),Path('/Users/jobdulo/.fastai/data/earth_sem_seg/Tile 1'),Path('/Users/jobdulo/.fastai/data/earth_sem_seg/Tile 6'),Path('/Users/jobdulo/.fastai/data/earth_sem_seg/classes.json'),Path('/Users/jobdulo/.fastai/data/earth_sem_seg/Tile 7'),Path('/Users/jobdulo/.fastai/data/earth_sem_seg/Tile 5'),Path('/Users/jobdulo/.fastai/data/earth_sem_seg/Tile 2'),Path('/Users/jobdulo/.fastai/data/earth_sem_seg/Tile 3'),Path('/Users/jobdulo/.fastai/data/earth_sem_seg/Tile 4')]"
      ]
     },
     "execution_count": 4,
     "metadata": {},
     "output_type": "execute_result"
    }
   ],
   "source": [
    "path.ls()"
   ]
  },
  {
   "cell_type": "code",
   "execution_count": 5,
   "id": "36e32097",
   "metadata": {},
   "outputs": [
    {
     "data": {
      "text/plain": [
       "(#2) [Path('/Users/jobdulo/.fastai/data/earth_sem_seg/Tile 1/images'),Path('/Users/jobdulo/.fastai/data/earth_sem_seg/Tile 1/masks')]"
      ]
     },
     "execution_count": 5,
     "metadata": {},
     "output_type": "execute_result"
    }
   ],
   "source": [
    "(path/'Tile 1').ls()"
   ]
  },
  {
   "cell_type": "code",
   "execution_count": 6,
   "id": "d36545e0",
   "metadata": {},
   "outputs": [
    {
     "data": {
      "text/plain": [
       "(#9) [Path('/Users/jobdulo/.fastai/data/earth_sem_seg/Tile 1/images/image_part_004.jpg'),Path('/Users/jobdulo/.fastai/data/earth_sem_seg/Tile 1/images/image_part_005.jpg'),Path('/Users/jobdulo/.fastai/data/earth_sem_seg/Tile 1/images/image_part_007.jpg'),Path('/Users/jobdulo/.fastai/data/earth_sem_seg/Tile 1/images/image_part_006.jpg'),Path('/Users/jobdulo/.fastai/data/earth_sem_seg/Tile 1/images/image_part_002.jpg'),Path('/Users/jobdulo/.fastai/data/earth_sem_seg/Tile 1/images/image_part_003.jpg'),Path('/Users/jobdulo/.fastai/data/earth_sem_seg/Tile 1/images/image_part_001.jpg'),Path('/Users/jobdulo/.fastai/data/earth_sem_seg/Tile 1/images/image_part_008.jpg'),Path('/Users/jobdulo/.fastai/data/earth_sem_seg/Tile 1/images/image_part_009.jpg')]"
      ]
     },
     "execution_count": 6,
     "metadata": {},
     "output_type": "execute_result"
    }
   ],
   "source": [
    "(path/'Tile 1/images').ls()"
   ]
  },
  {
   "cell_type": "code",
   "execution_count": 7,
   "id": "4e35d3ce",
   "metadata": {},
   "outputs": [
    {
     "data": {
      "text/plain": [
       "(#9) [Path('/Users/jobdulo/.fastai/data/earth_sem_seg/Tile 1/masks/image_part_004.png'),Path('/Users/jobdulo/.fastai/data/earth_sem_seg/Tile 1/masks/image_part_005.png'),Path('/Users/jobdulo/.fastai/data/earth_sem_seg/Tile 1/masks/image_part_007.png'),Path('/Users/jobdulo/.fastai/data/earth_sem_seg/Tile 1/masks/image_part_006.png'),Path('/Users/jobdulo/.fastai/data/earth_sem_seg/Tile 1/masks/image_part_002.png'),Path('/Users/jobdulo/.fastai/data/earth_sem_seg/Tile 1/masks/image_part_003.png'),Path('/Users/jobdulo/.fastai/data/earth_sem_seg/Tile 1/masks/image_part_001.png'),Path('/Users/jobdulo/.fastai/data/earth_sem_seg/Tile 1/masks/image_part_008.png'),Path('/Users/jobdulo/.fastai/data/earth_sem_seg/Tile 1/masks/image_part_009.png')]"
      ]
     },
     "execution_count": 7,
     "metadata": {},
     "output_type": "execute_result"
    }
   ],
   "source": [
    "(path/'Tile 1/masks').ls()"
   ]
  },
  {
   "cell_type": "code",
   "execution_count": 40,
   "id": "2dbb42d5",
   "metadata": {},
   "outputs": [],
   "source": [
    "def label_func(fname):\n",
    "    return (fname.parent.parent/\"masks\")/f\"{fname.stem}.png\"\n",
    "\n",
    "def get_classes_per_image(mask_data, class_labels):\n",
    "    for i in mask_data:\n",
    "        print(i)\n",
    "#     unique = list(np.unique(mask_data))\n",
    "    print(\"unique: \", unique)\n",
    "    result_dict = {}\n",
    "    print(class_labels)\n",
    "    for _class in class_labels.keys():\n",
    "        result_dict[class_labels[_class]] = int(_class in unique)\n",
    "    print(\"result_dict: \", result_dict)\n",
    "    return result_dict\n",
    "\n",
    "def _create_table(image_files, class_labels):\n",
    "    # create a table with the datasets\n",
    "    labels = [str(class_labels[_lab]) for _lab in list(class_labels)]\n",
    "    table = wandb.Table(columns=[\"File_Name\", \"Images\", \"Dataset\"] + labels)\n",
    "    \n",
    "    for i, image_file in progress_bar(enumerate(image_files), total=len(image_files)):\n",
    "        image = Image.open(image_file)\n",
    "        mask_data = np.array(Image.open(label_func(image_file)))\n",
    "        print(\"old mask data: \", mask_data)\n",
    "        # reshape mask_data to 2D\n",
    "        mask_data = np.reshape(mask_data, (mask_data.shape[0], mask_data.shape[1]*mask_data.shape[2]))\n",
    "        print(\"new mask data: \", mask_data)\n",
    "        class_in_image = get_classes_per_image(mask_data, class_labels)\n",
    "        table.add_data(\n",
    "            str(image_file.name),\n",
    "            wandb.Image(\n",
    "                    image,\n",
    "                    masks={\n",
    "                        \"predictions\": {\n",
    "                            \"mask_data\": mask_data,\n",
    "                            \"class_labels\": class_labels,\n",
    "                        }\n",
    "                    }\n",
    "            ),\n",
    "            \"big_earth_net\", # we don't have a dataset split yet\n",
    "            *[class_in_image[_lab] for _lab in labels]\n",
    "        )\n",
    "    \n",
    "    return table"
   ]
  },
  {
   "cell_type": "code",
   "execution_count": 9,
   "id": "826ea913",
   "metadata": {},
   "outputs": [
    {
     "name": "stdout",
     "output_type": "stream",
     "text": [
      "\u001b[34m\u001b[1mwandb\u001b[0m: Currently logged in as: \u001b[33mdulo\u001b[0m. Use \u001b[1m`wandb login --relogin`\u001b[0m to force relogin\r\n"
     ]
    }
   ],
   "source": [
    "!wandb login"
   ]
  },
  {
   "cell_type": "code",
   "execution_count": 10,
   "id": "729d6264",
   "metadata": {},
   "outputs": [],
   "source": [
    "import be_params"
   ]
  },
  {
   "cell_type": "code",
   "execution_count": 11,
   "id": "4b8bd56a",
   "metadata": {},
   "outputs": [
    {
     "name": "stderr",
     "output_type": "stream",
     "text": [
      "\u001b[34m\u001b[1mwandb\u001b[0m: Currently logged in as: \u001b[33mdulo\u001b[0m. Use \u001b[1m`wandb login --relogin`\u001b[0m to force relogin\n"
     ]
    },
    {
     "data": {
      "text/html": [
       "wandb version 0.14.0 is available!  To upgrade, please run:\n",
       " $ pip install wandb --upgrade"
      ],
      "text/plain": [
       "<IPython.core.display.HTML object>"
      ]
     },
     "metadata": {},
     "output_type": "display_data"
    },
    {
     "data": {
      "text/html": [
       "Tracking run with wandb version 0.13.6"
      ],
      "text/plain": [
       "<IPython.core.display.HTML object>"
      ]
     },
     "metadata": {},
     "output_type": "display_data"
    },
    {
     "data": {
      "text/html": [
       "Run data is saved locally in <code>/Users/jobdulo/Documents/mlops/content/endPrototype/wandb/run-20230323_123658-3uyj0kb5</code>"
      ],
      "text/plain": [
       "<IPython.core.display.HTML object>"
      ]
     },
     "metadata": {},
     "output_type": "display_data"
    },
    {
     "data": {
      "text/html": [
       "Syncing run <strong><a href=\"https://wandb.ai/dulo/aerial-imagery-mlops/runs/3uyj0kb5\" target=\"_blank\">zesty-leaf-5</a></strong> to <a href=\"https://wandb.ai/dulo/aerial-imagery-mlops\" target=\"_blank\">Weights & Biases</a> (<a href=\"https://wandb.me/run\" target=\"_blank\">docs</a>)<br/>"
      ],
      "text/plain": [
       "<IPython.core.display.HTML object>"
      ]
     },
     "metadata": {},
     "output_type": "display_data"
    }
   ],
   "source": [
    "run = wandb.init(project=be_params.WANDB_PROJECT, entity=be_params.ENTITY, job_type=\"data_upload\")\n",
    "raw_data_at = wandb.Artifact(params.RAW_DATA_AT, type=\"raw_data\")"
   ]
  },
  {
   "cell_type": "markdown",
   "id": "ed0d1a6c",
   "metadata": {},
   "source": [
    "### add the images and the label masks"
   ]
  },
  {
   "cell_type": "code",
   "execution_count": 12,
   "id": "920b92a2",
   "metadata": {},
   "outputs": [
    {
     "name": "stderr",
     "output_type": "stream",
     "text": [
      "\u001b[34m\u001b[1mwandb\u001b[0m: Adding directory to artifact (/Users/jobdulo/.fastai/data/earth_sem_seg/Tile 1/images)... Done. 0.1s\n",
      "\u001b[34m\u001b[1mwandb\u001b[0m: Adding directory to artifact (/Users/jobdulo/.fastai/data/earth_sem_seg/Tile 1/masks)... Done. 0.1s\n"
     ]
    }
   ],
   "source": [
    "raw_data_at.add_dir(path/'Tile 1/images', name='images')\n",
    "raw_data_at.add_dir(path/'Tile 1/masks', name='masks')"
   ]
  },
  {
   "cell_type": "code",
   "execution_count": 13,
   "id": "c59f204c",
   "metadata": {},
   "outputs": [],
   "source": [
    "DEBUG = False # set this flag to True to use a small subset of data for testing\n",
    "\n",
    "image_files = get_image_files(path/\"Tile 1/images\", recurse=False)\n",
    "\n",
    "# sample a subset if DEBUG\n",
    "if DEBUG: image_files = image_files[:10]"
   ]
  },
  {
   "cell_type": "code",
   "execution_count": 14,
   "id": "9978a68e",
   "metadata": {},
   "outputs": [
    {
     "data": {
      "text/plain": [
       "(#9) [Path('/Users/jobdulo/.fastai/data/earth_sem_seg/Tile 1/images/image_part_004.jpg'),Path('/Users/jobdulo/.fastai/data/earth_sem_seg/Tile 1/images/image_part_005.jpg'),Path('/Users/jobdulo/.fastai/data/earth_sem_seg/Tile 1/images/image_part_007.jpg'),Path('/Users/jobdulo/.fastai/data/earth_sem_seg/Tile 1/images/image_part_006.jpg'),Path('/Users/jobdulo/.fastai/data/earth_sem_seg/Tile 1/images/image_part_002.jpg'),Path('/Users/jobdulo/.fastai/data/earth_sem_seg/Tile 1/images/image_part_003.jpg'),Path('/Users/jobdulo/.fastai/data/earth_sem_seg/Tile 1/images/image_part_001.jpg'),Path('/Users/jobdulo/.fastai/data/earth_sem_seg/Tile 1/images/image_part_008.jpg'),Path('/Users/jobdulo/.fastai/data/earth_sem_seg/Tile 1/images/image_part_009.jpg')]"
      ]
     },
     "execution_count": 14,
     "metadata": {},
     "output_type": "execute_result"
    }
   ],
   "source": [
    "image_files"
   ]
  },
  {
   "cell_type": "code",
   "execution_count": 15,
   "id": "02a674d6",
   "metadata": {},
   "outputs": [],
   "source": [
    "# classes = {\"classes\": [{\"title\": \"Water\", \"shape\": \"polygon\", \"color\": \"#50E3C2\", \"geometry_config\": {}}, {\"title\": \"Land (unpaved area)\", \"shape\": \"polygon\", \"color\": \"#F5A623\", \"geometry_config\": {}}, {\"title\": \"Road\", \"shape\": \"polygon\", \"color\": \"#DE597F\", \"geometry_config\": {}}, {\"title\": \"Building\", \"shape\": \"polygon\", \"color\": \"#D0021B\", \"geometry_config\": {}}, {\"title\": \"Vegetation\", \"shape\": \"polygon\", \"color\": \"#417505\", \"geometry_config\": {}}, {\"title\": \"Unlabeled\", \"shape\": \"polygon\", \"color\": \"#9B9B9B\", \"geometry_config\": {}}], \"tags\": []}"
   ]
  },
  {
   "cell_type": "code",
   "execution_count": 16,
   "id": "37d06736",
   "metadata": {},
   "outputs": [],
   "source": [
    "# class_dict = {item['color']:item['title'] for item in classes[\"classes\"]}\n",
    "# class_dict"
   ]
  },
  {
   "cell_type": "code",
   "execution_count": 41,
   "id": "832ca88c",
   "metadata": {},
   "outputs": [
    {
     "data": {
      "text/html": [
       "\n",
       "<style>\n",
       "    /* Turns off some styling */\n",
       "    progress {\n",
       "        /* gets rid of default border in Firefox and Opera. */\n",
       "        border: none;\n",
       "        /* Needs to be in here for Safari polyfill so background images work as expected. */\n",
       "        background-size: auto;\n",
       "    }\n",
       "    progress:not([value]), progress:not([value])::-webkit-progress-bar {\n",
       "        background: repeating-linear-gradient(45deg, #7e7e7e, #7e7e7e 10px, #5c5c5c 10px, #5c5c5c 20px);\n",
       "    }\n",
       "    .progress-bar-interrupted, .progress-bar-interrupted::-webkit-progress-bar {\n",
       "        background: #F44336;\n",
       "    }\n",
       "</style>\n"
      ],
      "text/plain": [
       "<IPython.core.display.HTML object>"
      ]
     },
     "metadata": {},
     "output_type": "display_data"
    },
    {
     "data": {
      "text/html": [
       "\n",
       "    <div>\n",
       "      <progress value='0' class='' max='9' style='width:300px; height:20px; vertical-align: middle;'></progress>\n",
       "      0.00% [0/9 00:00&lt;?]\n",
       "    </div>\n",
       "    "
      ],
      "text/plain": [
       "<IPython.core.display.HTML object>"
      ]
     },
     "metadata": {},
     "output_type": "display_data"
    },
    {
     "name": "stdout",
     "output_type": "stream",
     "text": [
      "old mask data:  [[[132  41 246]\n",
      "  [132  41 246]\n",
      "  [132  41 246]\n",
      "  ...\n",
      "  [132  41 246]\n",
      "  [132  41 246]\n",
      "  [132  41 246]]\n",
      "\n",
      " [[132  41 246]\n",
      "  [132  41 246]\n",
      "  [132  41 246]\n",
      "  ...\n",
      "  [132  41 246]\n",
      "  [132  41 246]\n",
      "  [132  41 246]]\n",
      "\n",
      " [[132  41 246]\n",
      "  [132  41 246]\n",
      "  [132  41 246]\n",
      "  ...\n",
      "  [132  41 246]\n",
      "  [132  41 246]\n",
      "  [132  41 246]]\n",
      "\n",
      " ...\n",
      "\n",
      " [[132  41 246]\n",
      "  [132  41 246]\n",
      "  [132  41 246]\n",
      "  ...\n",
      "  [132  41 246]\n",
      "  [132  41 246]\n",
      "  [132  41 246]]\n",
      "\n",
      " [[132  41 246]\n",
      "  [132  41 246]\n",
      "  [132  41 246]\n",
      "  ...\n",
      "  [132  41 246]\n",
      "  [132  41 246]\n",
      "  [132  41 246]]\n",
      "\n",
      " [[132  41 246]\n",
      "  [132  41 246]\n",
      "  [132  41 246]\n",
      "  ...\n",
      "  [132  41 246]\n",
      "  [132  41 246]\n",
      "  [132  41 246]]]\n",
      "new mask data:  [[132  41 246 ... 132  41 246]\n",
      " [132  41 246 ... 132  41 246]\n",
      " [132  41 246 ... 132  41 246]\n",
      " ...\n",
      " [132  41 246 ... 132  41 246]\n",
      " [132  41 246 ... 132  41 246]\n",
      " [132  41 246 ... 132  41 246]]\n",
      "items:  2391\n",
      "items:  2391\n",
      "items:  2391\n",
      "items:  2391\n",
      "items:  2391\n",
      "items:  2391\n",
      "items:  2391\n",
      "items:  2391\n",
      "items:  2391\n",
      "items:  2391\n",
      "items:  2391\n",
      "items:  2391\n",
      "items:  2391\n",
      "items:  2391\n",
      "items:  2391\n",
      "items:  2391\n",
      "items:  2391\n",
      "items:  2391\n",
      "items:  2391\n",
      "items:  2391\n",
      "items:  2391\n",
      "items:  2391\n",
      "items:  2391\n",
      "items:  2391\n",
      "items:  2391\n",
      "items:  2391\n",
      "items:  2391\n",
      "items:  2391\n",
      "items:  2391\n",
      "items:  2391\n",
      "items:  2391\n",
      "items:  2391\n",
      "items:  2391\n",
      "items:  2391\n",
      "items:  2391\n",
      "items:  2391\n",
      "items:  2391\n",
      "items:  2391\n",
      "items:  2391\n",
      "items:  2391\n",
      "items:  2391\n",
      "items:  2391\n",
      "items:  2391\n",
      "items:  2391\n",
      "items:  2391\n",
      "items:  2391\n",
      "items:  2391\n",
      "items:  2391\n",
      "items:  2391\n",
      "items:  2391\n",
      "items:  2391\n",
      "items:  2391\n",
      "items:  2391\n",
      "items:  2391\n",
      "items:  2391\n",
      "items:  2391\n",
      "items:  2391\n",
      "items:  2391\n",
      "items:  2391\n",
      "items:  2391\n",
      "items:  2391\n",
      "items:  2391\n",
      "items:  2391\n",
      "items:  2391\n",
      "items:  2391\n",
      "items:  2391\n",
      "items:  2391\n",
      "items:  2391\n",
      "items:  2391\n",
      "items:  2391\n",
      "items:  2391\n",
      "items:  2391\n",
      "items:  2391\n",
      "items:  2391\n",
      "items:  2391\n",
      "items:  2391\n",
      "items:  2391\n",
      "items:  2391\n",
      "items:  2391\n",
      "items:  2391\n",
      "items:  2391\n",
      "items:  2391\n",
      "items:  2391\n",
      "items:  2391\n",
      "items:  2391\n",
      "items:  2391\n",
      "items:  2391\n",
      "items:  2391\n",
      "items:  2391\n",
      "items:  2391\n",
      "items:  2391\n",
      "items:  2391\n",
      "items:  2391\n",
      "items:  2391\n",
      "items:  2391\n",
      "items:  2391\n",
      "items:  2391\n",
      "items:  2391\n",
      "items:  2391\n",
      "items:  2391\n",
      "items:  2391\n",
      "items:  2391\n",
      "items:  2391\n",
      "items:  2391\n",
      "items:  2391\n",
      "items:  2391\n",
      "items:  2391\n",
      "items:  2391\n",
      "items:  2391\n",
      "items:  2391\n",
      "items:  2391\n",
      "items:  2391\n",
      "items:  2391\n",
      "items:  2391\n",
      "items:  2391\n",
      "items:  2391\n",
      "items:  2391\n",
      "items:  2391\n",
      "items:  2391\n",
      "items:  2391\n",
      "items:  2391\n",
      "items:  2391\n",
      "items:  2391\n",
      "items:  2391\n",
      "items:  2391\n",
      "items:  2391\n",
      "items:  2391\n",
      "items:  2391\n",
      "items:  2391\n",
      "items:  2391\n",
      "items:  2391\n",
      "items:  2391\n",
      "items:  2391\n",
      "items:  2391\n",
      "items:  2391\n",
      "items:  2391\n",
      "items:  2391\n",
      "items:  2391\n",
      "items:  2391\n",
      "items:  2391\n",
      "items:  2391\n",
      "items:  2391\n",
      "items:  2391\n",
      "items:  2391\n",
      "items:  2391\n",
      "items:  2391\n",
      "items:  2391\n",
      "items:  2391\n",
      "items:  2391\n",
      "items:  2391\n",
      "items:  2391\n",
      "items:  2391\n",
      "items:  2391\n",
      "items:  2391\n",
      "items:  2391\n",
      "items:  2391\n",
      "items:  2391\n",
      "items:  2391\n",
      "items:  2391\n",
      "items:  2391\n",
      "items:  2391\n",
      "items:  2391\n",
      "items:  2391\n",
      "items:  2391\n",
      "items:  2391\n",
      "items:  2391\n",
      "items:  2391\n",
      "items:  2391\n",
      "items:  2391\n",
      "items:  2391\n",
      "items:  2391\n",
      "items:  2391\n",
      "items:  2391\n",
      "items:  2391\n",
      "items:  2391\n",
      "items:  2391\n",
      "items:  2391\n",
      "items:  2391\n",
      "items:  2391\n",
      "items:  2391\n",
      "items:  2391\n",
      "items:  2391\n",
      "items:  2391\n",
      "items:  2391\n",
      "items:  2391\n",
      "items:  2391\n",
      "items:  2391\n",
      "items:  2391\n",
      "items:  2391\n",
      "items:  2391\n",
      "items:  2391\n",
      "items:  2391\n",
      "items:  2391\n",
      "items:  2391\n",
      "items:  2391\n",
      "items:  2391\n",
      "items:  2391\n",
      "items:  2391\n",
      "items:  2391\n",
      "items:  2391\n",
      "items:  2391\n",
      "items:  2391\n",
      "items:  2391\n",
      "items:  2391\n",
      "items:  2391\n",
      "items:  2391\n",
      "items:  2391\n",
      "items:  2391\n",
      "items:  2391\n",
      "items:  2391\n",
      "items:  2391\n",
      "items:  2391\n",
      "items:  2391\n",
      "items:  2391\n",
      "items:  2391\n",
      "items:  2391\n",
      "items:  2391\n",
      "items:  2391\n",
      "items:  2391\n",
      "items:  2391\n",
      "items:  2391\n",
      "items:  2391\n",
      "items:  2391\n",
      "items:  2391\n",
      "items:  2391\n",
      "items:  2391\n",
      "items:  2391\n",
      "items:  2391\n",
      "items:  2391\n",
      "items:  2391\n",
      "items:  2391\n",
      "items:  2391\n",
      "items:  2391\n",
      "items:  2391\n",
      "items:  2391\n",
      "items:  2391\n",
      "items:  2391\n",
      "items:  2391\n",
      "items:  2391\n",
      "items:  2391\n",
      "items:  2391\n",
      "items:  2391\n",
      "items:  2391\n",
      "items:  2391\n",
      "items:  2391\n",
      "items:  2391\n",
      "items:  2391\n",
      "items:  2391\n",
      "items:  2391\n",
      "items:  2391\n",
      "items:  2391\n",
      "items:  2391\n",
      "items:  2391\n",
      "items:  2391\n",
      "items:  2391\n",
      "items:  2391\n",
      "items:  2391\n",
      "items:  2391\n",
      "items:  2391\n",
      "items:  2391\n",
      "items:  2391\n",
      "items:  2391\n",
      "items:  2391\n",
      "items:  2391\n",
      "items:  2391\n",
      "items:  2391\n",
      "items:  2391\n",
      "items:  2391\n",
      "items:  2391\n",
      "items:  2391\n",
      "items:  2391\n",
      "items:  2391\n",
      "items:  2391\n",
      "items:  2391\n",
      "items:  2391\n",
      "items:  2391\n",
      "items:  2391\n",
      "items:  2391\n",
      "items:  2391\n",
      "items:  2391\n",
      "items:  2391\n",
      "items:  2391\n",
      "items:  2391\n",
      "items:  2391\n",
      "items:  2391\n",
      "items:  2391\n",
      "items:  2391\n",
      "items:  2391\n",
      "items:  2391\n",
      "items:  2391\n",
      "items:  2391\n",
      "items:  2391\n",
      "items:  2391\n",
      "items:  2391\n",
      "items:  2391\n",
      "items:  2391\n",
      "items:  2391\n",
      "items:  2391\n",
      "items:  2391\n",
      "items:  2391\n",
      "items:  2391\n",
      "items:  2391\n",
      "items:  2391\n",
      "items:  2391\n",
      "items:  2391\n",
      "items:  2391\n",
      "items:  2391\n",
      "items:  2391\n",
      "items:  2391\n",
      "items:  2391\n",
      "items:  2391\n",
      "items:  2391\n",
      "items:  2391\n",
      "items:  2391\n",
      "items:  2391\n",
      "items:  2391\n",
      "items:  2391\n",
      "items:  2391\n",
      "items:  2391\n",
      "items:  2391\n",
      "items:  2391\n",
      "items:  2391\n",
      "items:  2391\n",
      "items:  2391\n",
      "items:  2391\n",
      "items:  2391\n",
      "items:  2391\n",
      "items:  2391\n",
      "items:  2391\n",
      "items:  2391\n",
      "items:  2391\n",
      "items:  2391\n",
      "items:  2391\n",
      "items:  2391\n",
      "items:  2391\n",
      "items:  2391\n",
      "items:  2391\n",
      "items:  2391\n",
      "items:  2391\n",
      "items:  2391\n",
      "items:  2391\n",
      "items:  2391\n",
      "items:  2391\n",
      "items:  2391\n",
      "items:  2391\n",
      "items:  2391\n",
      "items:  2391\n",
      "items:  2391\n",
      "items:  2391\n",
      "items:  2391\n",
      "items:  2391\n",
      "items:  2391\n",
      "items:  2391\n",
      "items:  2391\n",
      "items:  2391\n",
      "items:  2391\n",
      "items:  2391\n",
      "items:  2391\n",
      "items:  2391\n",
      "items:  2391\n",
      "items:  2391\n",
      "items:  2391\n",
      "items:  2391\n",
      "items:  2391\n",
      "items:  2391\n",
      "items:  2391\n",
      "items:  2391\n",
      "items:  2391\n",
      "items:  2391\n",
      "items:  2391\n",
      "items:  2391\n",
      "items:  2391\n",
      "items:  2391\n",
      "items:  2391\n",
      "items:  2391\n",
      "items:  2391\n",
      "items:  2391\n",
      "items:  2391\n",
      "items:  2391\n",
      "items:  2391\n",
      "items:  2391\n",
      "items:  2391\n",
      "items:  2391\n",
      "items:  2391\n",
      "items:  2391\n",
      "items:  2391\n",
      "items:  2391\n",
      "items:  2391\n",
      "items:  2391\n",
      "items:  2391\n",
      "items:  2391\n",
      "items:  2391\n",
      "items:  2391\n",
      "items:  2391\n",
      "items:  2391\n",
      "items:  2391\n",
      "items:  2391\n",
      "items:  2391\n",
      "items:  2391\n",
      "items:  2391\n",
      "items:  2391\n",
      "items:  2391\n",
      "items:  2391\n",
      "items:  2391\n",
      "items:  2391\n",
      "items:  2391\n",
      "items:  2391\n",
      "items:  2391\n",
      "items:  2391\n",
      "items:  2391\n",
      "items:  2391\n",
      "items:  2391\n",
      "items:  2391\n",
      "items:  2391\n",
      "items:  2391\n",
      "items:  2391\n",
      "items:  2391\n",
      "items:  2391\n",
      "items:  2391\n",
      "items:  2391\n",
      "items:  2391\n",
      "items:  2391\n",
      "items:  2391\n",
      "items:  2391\n",
      "items:  2391\n",
      "items:  2391\n",
      "items:  2391\n",
      "items:  2391\n",
      "items:  2391\n",
      "items:  2391\n",
      "items:  2391\n",
      "items:  2391\n",
      "items:  2391\n",
      "items:  2391\n",
      "items:  2391\n",
      "items:  2391\n",
      "items:  2391\n",
      "items:  2391\n",
      "items:  2391\n",
      "items:  2391\n",
      "items:  2391\n",
      "items:  2391\n",
      "items:  2391\n",
      "items:  2391\n",
      "items:  2391\n",
      "items:  2391\n",
      "items:  2391\n",
      "items:  2391\n",
      "items:  2391\n",
      "items:  2391\n",
      "items:  2391\n",
      "items:  2391\n",
      "items:  2391\n",
      "items:  2391\n",
      "items:  2391\n",
      "items:  2391\n",
      "items:  2391\n",
      "items:  2391\n",
      "items:  2391\n",
      "items:  2391\n",
      "items:  2391\n",
      "items:  2391\n",
      "items:  2391\n",
      "items:  2391\n",
      "items:  2391\n",
      "items:  2391\n",
      "items:  2391\n",
      "items:  2391\n",
      "items:  2391\n",
      "items:  2391\n",
      "items:  2391\n",
      "items:  2391\n",
      "items:  2391\n",
      "items:  2391\n",
      "items:  2391\n",
      "items:  2391\n",
      "items:  2391\n",
      "items:  2391\n",
      "items:  2391\n",
      "items:  2391\n",
      "items:  2391\n",
      "items:  2391\n",
      "items:  2391\n",
      "items:  2391\n",
      "items:  2391\n",
      "items:  2391\n",
      "items:  2391\n",
      "items:  2391\n",
      "items:  2391\n",
      "items:  2391\n",
      "items:  2391\n",
      "items:  2391\n",
      "items:  2391\n",
      "items:  2391\n",
      "items:  2391\n",
      "items:  2391\n",
      "items:  2391\n",
      "items:  2391\n",
      "items:  2391\n",
      "items:  2391\n",
      "items:  2391\n",
      "items:  2391\n",
      "items:  2391\n",
      "items:  2391\n",
      "items:  2391\n",
      "items:  2391\n",
      "items:  2391\n",
      "items:  2391\n",
      "items:  2391\n",
      "items:  2391\n",
      "items:  2391\n",
      "items:  2391\n",
      "items:  2391\n",
      "items:  2391\n",
      "items:  2391\n",
      "items:  2391\n",
      "items:  2391\n",
      "items:  2391\n",
      "items:  2391\n",
      "items:  2391\n",
      "items:  2391\n",
      "items:  2391\n",
      "items:  2391\n",
      "items:  2391\n",
      "items:  2391\n",
      "items:  2391\n",
      "items:  2391\n",
      "items:  2391\n",
      "items:  2391\n",
      "items:  2391\n",
      "items:  2391\n",
      "items:  2391\n",
      "items:  2391\n",
      "items:  2391\n",
      "items:  2391\n",
      "items:  2391\n",
      "items:  2391\n",
      "items:  2391\n",
      "items:  2391\n",
      "items:  2391\n",
      "items:  2391\n",
      "items:  2391\n",
      "items:  2391\n",
      "items:  2391\n",
      "items:  2391\n",
      "items:  2391\n",
      "items:  2391\n",
      "items:  2391\n",
      "items:  2391\n",
      "items:  2391\n",
      "items:  2391\n",
      "items:  2391\n",
      "items:  2391\n",
      "items:  2391\n",
      "items:  2391\n",
      "items:  2391\n",
      "items:  2391\n",
      "items:  2391\n",
      "items:  2391\n",
      "items:  2391\n",
      "items:  2391\n",
      "items:  2391\n",
      "items:  2391\n",
      "items:  2391\n",
      "items:  2391\n",
      "items:  2391\n",
      "items:  2391\n",
      "items:  2391\n",
      "items:  2391\n",
      "items:  2391\n",
      "items:  2391\n",
      "items:  2391\n",
      "items:  2391\n",
      "items:  2391\n",
      "items:  2391\n",
      "items:  2391\n",
      "items:  2391\n",
      "items:  2391\n",
      "items:  2391\n",
      "items:  2391\n",
      "items:  2391\n",
      "items:  2391\n",
      "items:  2391\n",
      "items:  2391\n",
      "items:  2391\n",
      "items:  2391\n",
      "items:  2391\n",
      "items:  2391\n",
      "items:  2391\n",
      "items:  2391\n",
      "items:  2391\n",
      "items:  2391\n",
      "items:  2391\n",
      "items:  2391\n",
      "items:  2391\n",
      "items:  2391\n",
      "items:  2391\n",
      "items:  2391\n",
      "items:  2391\n",
      "items:  2391\n",
      "items:  2391\n",
      "items:  2391\n",
      "items:  2391\n",
      "items:  2391\n",
      "items:  2391\n",
      "items:  2391\n",
      "items:  2391\n",
      "items:  2391\n",
      "items:  2391\n",
      "items:  2391\n",
      "items:  2391\n",
      "items:  2391\n",
      "items:  2391\n",
      "items:  2391\n",
      "items:  2391\n",
      "items:  2391\n",
      "items:  2391\n",
      "items:  2391\n",
      "items:  2391\n",
      "items:  2391\n",
      "items:  2391\n",
      "items:  2391\n",
      "items:  2391\n",
      "items:  2391\n",
      "items:  2391\n",
      "items:  2391\n",
      "items:  2391\n",
      "items:  2391\n",
      "items:  2391\n",
      "items:  2391\n",
      "items:  2391\n",
      "items:  2391\n",
      "items:  2391\n",
      "items:  2391\n",
      "items:  2391\n",
      "items:  2391\n",
      "items:  2391\n",
      "items:  2391\n",
      "items:  2391\n",
      "items:  2391\n",
      "items:  2391\n",
      "items:  2391\n",
      "items:  2391\n",
      "{0: 'Water', 1: 'Land (unpaved area)', 2: 'Road', 3: 'Building', 4: 'Vegetation', 5: 'Unlabeled'}\n"
     ]
    },
    {
     "ename": "NameError",
     "evalue": "name 'unique' is not defined",
     "output_type": "error",
     "traceback": [
      "\u001b[0;31m---------------------------------------------------------------------------\u001b[0m",
      "\u001b[0;31mNameError\u001b[0m                                 Traceback (most recent call last)",
      "\u001b[0;32m/var/folders/5g/bk99qck554x2hb7z7_z7nt540000gn/T/ipykernel_6494/1068643034.py\u001b[0m in \u001b[0;36m<module>\u001b[0;34m\u001b[0m\n\u001b[1;32m      1\u001b[0m \u001b[0;31m# create a W& B table\u001b[0m\u001b[0;34m\u001b[0m\u001b[0;34m\u001b[0m\u001b[0;34m\u001b[0m\u001b[0m\n\u001b[0;32m----> 2\u001b[0;31m \u001b[0mtable\u001b[0m \u001b[0;34m=\u001b[0m \u001b[0m_create_table\u001b[0m\u001b[0;34m(\u001b[0m\u001b[0mimage_files\u001b[0m\u001b[0;34m,\u001b[0m \u001b[0mbe_params\u001b[0m\u001b[0;34m.\u001b[0m\u001b[0mBE_CLASSES\u001b[0m\u001b[0;34m)\u001b[0m\u001b[0;34m\u001b[0m\u001b[0;34m\u001b[0m\u001b[0m\n\u001b[0m",
      "\u001b[0;32m/var/folders/5g/bk99qck554x2hb7z7_z7nt540000gn/T/ipykernel_6494/3580124813.py\u001b[0m in \u001b[0;36m_create_table\u001b[0;34m(image_files, class_labels)\u001b[0m\n\u001b[1;32m     26\u001b[0m         \u001b[0mmask_data\u001b[0m \u001b[0;34m=\u001b[0m \u001b[0mnp\u001b[0m\u001b[0;34m.\u001b[0m\u001b[0mreshape\u001b[0m\u001b[0;34m(\u001b[0m\u001b[0mmask_data\u001b[0m\u001b[0;34m,\u001b[0m \u001b[0;34m(\u001b[0m\u001b[0mmask_data\u001b[0m\u001b[0;34m.\u001b[0m\u001b[0mshape\u001b[0m\u001b[0;34m[\u001b[0m\u001b[0;36m0\u001b[0m\u001b[0;34m]\u001b[0m\u001b[0;34m,\u001b[0m \u001b[0mmask_data\u001b[0m\u001b[0;34m.\u001b[0m\u001b[0mshape\u001b[0m\u001b[0;34m[\u001b[0m\u001b[0;36m1\u001b[0m\u001b[0;34m]\u001b[0m\u001b[0;34m*\u001b[0m\u001b[0mmask_data\u001b[0m\u001b[0;34m.\u001b[0m\u001b[0mshape\u001b[0m\u001b[0;34m[\u001b[0m\u001b[0;36m2\u001b[0m\u001b[0;34m]\u001b[0m\u001b[0;34m)\u001b[0m\u001b[0;34m)\u001b[0m\u001b[0;34m\u001b[0m\u001b[0;34m\u001b[0m\u001b[0m\n\u001b[1;32m     27\u001b[0m         \u001b[0mprint\u001b[0m\u001b[0;34m(\u001b[0m\u001b[0;34m\"new mask data: \"\u001b[0m\u001b[0;34m,\u001b[0m \u001b[0mmask_data\u001b[0m\u001b[0;34m)\u001b[0m\u001b[0;34m\u001b[0m\u001b[0;34m\u001b[0m\u001b[0m\n\u001b[0;32m---> 28\u001b[0;31m         \u001b[0mclass_in_image\u001b[0m \u001b[0;34m=\u001b[0m \u001b[0mget_classes_per_image\u001b[0m\u001b[0;34m(\u001b[0m\u001b[0mmask_data\u001b[0m\u001b[0;34m,\u001b[0m \u001b[0mclass_labels\u001b[0m\u001b[0;34m)\u001b[0m\u001b[0;34m\u001b[0m\u001b[0;34m\u001b[0m\u001b[0m\n\u001b[0m\u001b[1;32m     29\u001b[0m         table.add_data(\n\u001b[1;32m     30\u001b[0m             \u001b[0mstr\u001b[0m\u001b[0;34m(\u001b[0m\u001b[0mimage_file\u001b[0m\u001b[0;34m.\u001b[0m\u001b[0mname\u001b[0m\u001b[0;34m)\u001b[0m\u001b[0;34m,\u001b[0m\u001b[0;34m\u001b[0m\u001b[0;34m\u001b[0m\u001b[0m\n",
      "\u001b[0;32m/var/folders/5g/bk99qck554x2hb7z7_z7nt540000gn/T/ipykernel_6494/3580124813.py\u001b[0m in \u001b[0;36mget_classes_per_image\u001b[0;34m(mask_data, class_labels)\u001b[0m\n\u001b[1;32m     10\u001b[0m     \u001b[0mprint\u001b[0m\u001b[0;34m(\u001b[0m\u001b[0mclass_labels\u001b[0m\u001b[0;34m)\u001b[0m\u001b[0;34m\u001b[0m\u001b[0;34m\u001b[0m\u001b[0m\n\u001b[1;32m     11\u001b[0m     \u001b[0;32mfor\u001b[0m \u001b[0m_class\u001b[0m \u001b[0;32min\u001b[0m \u001b[0mclass_labels\u001b[0m\u001b[0;34m.\u001b[0m\u001b[0mkeys\u001b[0m\u001b[0;34m(\u001b[0m\u001b[0;34m)\u001b[0m\u001b[0;34m:\u001b[0m\u001b[0;34m\u001b[0m\u001b[0;34m\u001b[0m\u001b[0m\n\u001b[0;32m---> 12\u001b[0;31m         \u001b[0mresult_dict\u001b[0m\u001b[0;34m[\u001b[0m\u001b[0mclass_labels\u001b[0m\u001b[0;34m[\u001b[0m\u001b[0m_class\u001b[0m\u001b[0;34m]\u001b[0m\u001b[0;34m]\u001b[0m \u001b[0;34m=\u001b[0m \u001b[0mint\u001b[0m\u001b[0;34m(\u001b[0m\u001b[0m_class\u001b[0m \u001b[0;32min\u001b[0m \u001b[0munique\u001b[0m\u001b[0;34m)\u001b[0m\u001b[0;34m\u001b[0m\u001b[0;34m\u001b[0m\u001b[0m\n\u001b[0m\u001b[1;32m     13\u001b[0m     \u001b[0mprint\u001b[0m\u001b[0;34m(\u001b[0m\u001b[0;34m\"result_dict: \"\u001b[0m\u001b[0;34m,\u001b[0m \u001b[0mresult_dict\u001b[0m\u001b[0;34m)\u001b[0m\u001b[0;34m\u001b[0m\u001b[0;34m\u001b[0m\u001b[0m\n\u001b[1;32m     14\u001b[0m     \u001b[0;32mreturn\u001b[0m \u001b[0mresult_dict\u001b[0m\u001b[0;34m\u001b[0m\u001b[0;34m\u001b[0m\u001b[0m\n",
      "\u001b[0;31mNameError\u001b[0m: name 'unique' is not defined"
     ]
    }
   ],
   "source": [
    "# create a W& B table\n",
    "table = _create_table(image_files, be_params.BE_CLASSES)"
   ]
  },
  {
   "cell_type": "code",
   "execution_count": 17,
   "id": "62bb6911",
   "metadata": {},
   "outputs": [],
   "source": [
    "# for i, image_file in progress_bar(enumerate(image_files), total=len(image_files)):\n",
    "#         image = Image.open(image_file)\n",
    "#         mask_data = np.array(Image.open(label_func(image_file)))"
   ]
  },
  {
   "cell_type": "code",
   "execution_count": 18,
   "id": "788166a1",
   "metadata": {},
   "outputs": [],
   "source": [
    "# mask_data"
   ]
  },
  {
   "cell_type": "code",
   "execution_count": 19,
   "id": "af4088f1",
   "metadata": {},
   "outputs": [],
   "source": [
    "# mask_data.ndim"
   ]
  },
  {
   "cell_type": "code",
   "execution_count": 20,
   "id": "ae9be9ea",
   "metadata": {},
   "outputs": [
    {
     "data": {
      "text/plain": [
       "<ManifestEntry digest: dNVZ78Cs9GxQJU1roAYULg==>"
      ]
     },
     "execution_count": 20,
     "metadata": {},
     "output_type": "execute_result"
    }
   ],
   "source": [
    "raw_data_at.add(table, \"big_earth_eda_table\")"
   ]
  },
  {
   "cell_type": "code",
   "execution_count": 21,
   "id": "ab4ed9fa",
   "metadata": {},
   "outputs": [
    {
     "data": {
      "text/html": [
       "Waiting for W&B process to finish... <strong style=\"color:green\">(success).</strong>"
      ],
      "text/plain": [
       "<IPython.core.display.HTML object>"
      ]
     },
     "metadata": {},
     "output_type": "display_data"
    },
    {
     "data": {
      "text/html": [
       "Synced <strong style=\"color:#cdcd00\">drawn-microwave-4</strong>: <a href=\"https://wandb.ai/dulo/aerial-imagery-mlops/runs/2io38237\" target=\"_blank\">https://wandb.ai/dulo/aerial-imagery-mlops/runs/2io38237</a><br/>Synced 6 W&B file(s), 0 media file(s), 38 artifact file(s) and 0 other file(s)"
      ],
      "text/plain": [
       "<IPython.core.display.HTML object>"
      ]
     },
     "metadata": {},
     "output_type": "display_data"
    },
    {
     "data": {
      "text/html": [
       "Find logs at: <code>./wandb/run-20230323_121704-2io38237/logs</code>"
      ],
      "text/plain": [
       "<IPython.core.display.HTML object>"
      ]
     },
     "metadata": {},
     "output_type": "display_data"
    }
   ],
   "source": [
    "run.log_artifact(raw_data_at)\n",
    "run.finish()"
   ]
  },
  {
   "cell_type": "code",
   "execution_count": 29,
   "id": "64bf3147",
   "metadata": {},
   "outputs": [],
   "source": [
    "maskx = [[132,  41, 246, 132,  41, 246], [132,  41, 246, 132,  41, 246]]"
   ]
  },
  {
   "cell_type": "code",
   "execution_count": 30,
   "id": "02c00a0a",
   "metadata": {},
   "outputs": [
    {
     "name": "stdout",
     "output_type": "stream",
     "text": [
      "[132, 41, 246, 132, 41, 246]\n",
      "[132, 41, 246, 132, 41, 246]\n"
     ]
    }
   ],
   "source": [
    "for i in maskx:\n",
    "    print(i)"
   ]
  },
  {
   "cell_type": "code",
   "execution_count": null,
   "id": "d60e076f",
   "metadata": {},
   "outputs": [],
   "source": []
  }
 ],
 "metadata": {
  "kernelspec": {
   "display_name": "Python 3 (ipykernel)",
   "language": "python",
   "name": "python3"
  },
  "language_info": {
   "codemirror_mode": {
    "name": "ipython",
    "version": 3
   },
   "file_extension": ".py",
   "mimetype": "text/x-python",
   "name": "python",
   "nbconvert_exporter": "python",
   "pygments_lexer": "ipython3",
   "version": "3.7.15"
  }
 },
 "nbformat": 4,
 "nbformat_minor": 5
}
