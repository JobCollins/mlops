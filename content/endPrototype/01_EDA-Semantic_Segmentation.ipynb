{
 "cells": [
  {
   "cell_type": "markdown",
   "id": "e6fb52ba",
   "metadata": {},
   "source": [
    "<a href=\"https://colab.research.google.com/github/tcapelle/edu/blob/main/mlops-001/lesson1/01_EDA.ipynb\" target=\"_parent\"><img src=\"https://colab.research.google.com/assets/colab-badge.svg\" alt=\"Open In Colab\"/></a>\n",
    "<!--- @wandbcode{course-lesson1} -->"
   ]
  },
  {
   "cell_type": "markdown",
   "id": "a212966e-8f38-4b4a-8e00-2985120439ca",
   "metadata": {},
   "source": [
    "# EDA \n",
    "<!--- @wandbcode{course-lesson1} -->\n",
    "\n",
    "In this notebook, we will download a sample of the [BDD100K](https://www.bdd100k.com/) semantic segmentation dataset and use W&B Artifacts and Tables to version and analyze our data. "
   ]
  },
  {
   "cell_type": "code",
   "execution_count": 1,
   "id": "4676eafd",
   "metadata": {},
   "outputs": [],
   "source": [
    "# INSTALL WANDB\n",
    "# !pip install wandb -qq"
   ]
  },
  {
   "cell_type": "code",
   "execution_count": 2,
   "id": "7ee88efc-3257-4ed7-bb8c-1695f4a8c828",
   "metadata": {},
   "outputs": [],
   "source": [
    "from fastai.vision.all import *\n",
    "import params\n",
    "import wandb"
   ]
  },
  {
   "cell_type": "code",
   "execution_count": 3,
   "id": "6fe85038",
   "metadata": {},
   "outputs": [
    {
     "data": {
      "text/plain": [
       "'2.7.10'"
      ]
     },
     "execution_count": 3,
     "metadata": {},
     "output_type": "execute_result"
    }
   ],
   "source": [
    "import fastai\n",
    "fastai.__version__\n"
   ]
  },
  {
   "cell_type": "code",
   "execution_count": 4,
   "id": "1e0b2606",
   "metadata": {},
   "outputs": [],
   "source": [
    "from fastai.vision.all import *"
   ]
  },
  {
   "cell_type": "markdown",
   "id": "055764da-7252-4796-86af-585007dea288",
   "metadata": {},
   "source": [
    "We have defined some global configuration parameters in the `params.py` file. `ENTITY` should correspond to your W&B Team name if you work in a team, replace it with `None` if you work individually. \n",
    "\n",
    "In the section below, we will use `untar_data` function from `fastai` to download and unzip our datasets. "
   ]
  },
  {
   "cell_type": "code",
   "execution_count": 5,
   "id": "0bae3750-a653-4265-9c52-c1f9af9b8393",
   "metadata": {},
   "outputs": [],
   "source": [
    "URL = 'file:///Users/jobdulo/Documents/mlops/content/endPrototype/archive.zip'"
   ]
  },
  {
   "cell_type": "code",
   "execution_count": 6,
   "id": "0da50d19-860a-4b39-8320-a376c483da04",
   "metadata": {},
   "outputs": [
    {
     "data": {
      "text/html": [
       "\n",
       "<style>\n",
       "    /* Turns off some styling */\n",
       "    progress {\n",
       "        /* gets rid of default border in Firefox and Opera. */\n",
       "        border: none;\n",
       "        /* Needs to be in here for Safari polyfill so background images work as expected. */\n",
       "        background-size: auto;\n",
       "    }\n",
       "    progress:not([value]), progress:not([value])::-webkit-progress-bar {\n",
       "        background: repeating-linear-gradient(45deg, #7e7e7e, #7e7e7e 10px, #5c5c5c 10px, #5c5c5c 20px);\n",
       "    }\n",
       "    .progress-bar-interrupted, .progress-bar-interrupted::-webkit-progress-bar {\n",
       "        background: #F44336;\n",
       "    }\n",
       "</style>\n"
      ],
      "text/plain": [
       "<IPython.core.display.HTML object>"
      ]
     },
     "metadata": {},
     "output_type": "display_data"
    },
    {
     "data": {
      "text/html": [
       "\n",
       "    <div>\n",
       "      <progress value='13467648' class='' max='13462293' style='width:300px; height:20px; vertical-align: middle;'></progress>\n",
       "      100.04% [13467648/13462293 00:00&lt;00:00]\n",
       "    </div>\n",
       "    "
      ],
      "text/plain": [
       "<IPython.core.display.HTML object>"
      ]
     },
     "metadata": {},
     "output_type": "display_data"
    }
   ],
   "source": [
    "path = Path(untar_data(URL, force_download=True))"
   ]
  },
  {
   "cell_type": "code",
   "execution_count": 7,
   "id": "6df5b830-e685-4a0d-81e8-6dda10697dff",
   "metadata": {},
   "outputs": [
    {
     "data": {
      "text/plain": [
       "(#3) [Path('/Users/jobdulo/.fastai/data/archive/images'),Path('/Users/jobdulo/.fastai/data/archive/labels_class_dict.csv'),Path('/Users/jobdulo/.fastai/data/archive/masks')]"
      ]
     },
     "execution_count": 7,
     "metadata": {},
     "output_type": "execute_result"
    }
   ],
   "source": [
    "path.ls()"
   ]
  },
  {
   "cell_type": "code",
   "execution_count": 8,
   "id": "9c09c0c9",
   "metadata": {},
   "outputs": [
    {
     "data": {
      "text/plain": [
       "(#715) [Path('/Users/jobdulo/.fastai/data/archive/masks/0101492.png'),Path('/Users/jobdulo/.fastai/data/archive/masks/0102170.png'),Path('/Users/jobdulo/.fastai/data/archive/masks/3001667.png'),Path('/Users/jobdulo/.fastai/data/archive/masks/5000191.png'),Path('/Users/jobdulo/.fastai/data/archive/masks/6000166.png'),Path('/Users/jobdulo/.fastai/data/archive/masks/6000172.png'),Path('/Users/jobdulo/.fastai/data/archive/masks/4000086.png'),Path('/Users/jobdulo/.fastai/data/archive/masks/6000199.png'),Path('/Users/jobdulo/.fastai/data/archive/masks/0101121.png'),Path('/Users/jobdulo/.fastai/data/archive/masks/6000012.png')...]"
      ]
     },
     "execution_count": 8,
     "metadata": {},
     "output_type": "execute_result"
    }
   ],
   "source": [
    "(path/'masks').ls()"
   ]
  },
  {
   "cell_type": "markdown",
   "id": "db6708ae-abaa-432f-83b0-028a99222096",
   "metadata": {},
   "source": [
    "Here we define several functions to help us process the data and upload it as a `Table` to W&B. "
   ]
  },
  {
   "cell_type": "code",
   "execution_count": 22,
   "id": "5779f980-4d9b-4645-9726-642a25334e10",
   "metadata": {},
   "outputs": [],
   "source": [
    "def label_func(fname):\n",
    "    return (fname.parent.parent/\"masks\")/f\"{fname.stem}.png\"\n",
    "\n",
    "def get_classes_per_image(mask_data, class_labels):\n",
    "    unique = list(np.unique(mask_data))\n",
    "    result_dict = {}\n",
    "    for _class in class_labels.keys():\n",
    "        result_dict[class_labels[_class]] = int(_class in unique)\n",
    "    return result_dict\n",
    "\n",
    "def _create_table(image_files, class_labels):\n",
    "    \"Create a table with the dataset\"\n",
    "    labels = [str(class_labels[_lab]) for _lab in list(class_labels)]\n",
    "    table = wandb.Table(columns=[\"File_Name\", \"Images\", \"Dataset\"] + labels)\n",
    "    \n",
    "    for i, image_file in progress_bar(enumerate(image_files), total=len(image_files)):\n",
    "        image = Image.open(image_file)\n",
    "        print(image_file)\n",
    "        print(label_func(image_file))\n",
    "        mask_data = np.array(Image.open(label_func(image_file)))\n",
    "#         print(\"shape: \", mask_data.shape[0])\n",
    "        multipl = mask_data.shape[1]*mask_data.shape[2]\n",
    "#         print(\"mutl: \",multipl)\n",
    "        mult1 = mask_data.shape[0]\n",
    "        mask_data =  np.reshape(mask_data, (mult1, multipl))\n",
    "#         print(\"Mask data: \", mask_data)\n",
    "        class_in_image = get_classes_per_image(mask_data, class_labels)\n",
    "        table.add_data(\n",
    "            str(image_file.name),\n",
    "            wandb.Image(\n",
    "                    image,\n",
    "                    masks={\n",
    "                        \"predictions\": {\n",
    "                            \"mask_data\": mask_data,\n",
    "                            \"class_labels\": class_labels,\n",
    "                        }\n",
    "                    }\n",
    "            ),\n",
    "            \"archive\", # we don't have a dataset split yet\n",
    "            *[class_in_image[_lab] for _lab in labels]\n",
    "        )\n",
    "    \n",
    "    return table"
   ]
  },
  {
   "cell_type": "markdown",
   "id": "eac085cd-2409-4baf-a887-108e3dca65b9",
   "metadata": {},
   "source": [
    "We will start a new W&B `run` and put everything into a raw Artifact."
   ]
  },
  {
   "cell_type": "code",
   "execution_count": 10,
   "id": "c56b23c0",
   "metadata": {},
   "outputs": [
    {
     "name": "stdout",
     "output_type": "stream",
     "text": [
      "\u001b[34m\u001b[1mwandb\u001b[0m: Currently logged in as: \u001b[33mdulo\u001b[0m. Use \u001b[1m`wandb login --relogin`\u001b[0m to force relogin\r\n"
     ]
    }
   ],
   "source": [
    "!wandb login"
   ]
  },
  {
   "cell_type": "code",
   "execution_count": 11,
   "id": "904f0961",
   "metadata": {},
   "outputs": [],
   "source": [
    "import params"
   ]
  },
  {
   "cell_type": "code",
   "execution_count": 12,
   "id": "e87141b3-b9b7-4a40-839c-64c835484f48",
   "metadata": {},
   "outputs": [
    {
     "name": "stderr",
     "output_type": "stream",
     "text": [
      "\u001b[34m\u001b[1mwandb\u001b[0m: Currently logged in as: \u001b[33mdulo\u001b[0m. Use \u001b[1m`wandb login --relogin`\u001b[0m to force relogin\n"
     ]
    },
    {
     "data": {
      "application/vnd.jupyter.widget-view+json": {
       "model_id": "4daaf1826b9747a98ce1af86b4ce8edf",
       "version_major": 2,
       "version_minor": 0
      },
      "text/plain": [
       "VBox(children=(Label(value='Waiting for wandb.init()...\\r'), FloatProgress(value=0.016691012499999994, max=1.0…"
      ]
     },
     "metadata": {},
     "output_type": "display_data"
    },
    {
     "data": {
      "text/html": [
       "wandb version 0.14.0 is available!  To upgrade, please run:\n",
       " $ pip install wandb --upgrade"
      ],
      "text/plain": [
       "<IPython.core.display.HTML object>"
      ]
     },
     "metadata": {},
     "output_type": "display_data"
    },
    {
     "data": {
      "text/html": [
       "Tracking run with wandb version 0.13.6"
      ],
      "text/plain": [
       "<IPython.core.display.HTML object>"
      ]
     },
     "metadata": {},
     "output_type": "display_data"
    },
    {
     "data": {
      "text/html": [
       "Run data is saved locally in <code>/Users/jobdulo/Documents/mlops/content/endPrototype/wandb/run-20230322_163454-3qz1qr8x</code>"
      ],
      "text/plain": [
       "<IPython.core.display.HTML object>"
      ]
     },
     "metadata": {},
     "output_type": "display_data"
    },
    {
     "data": {
      "text/html": [
       "Syncing run <strong><a href=\"https://wandb.ai/dulo/sem_seg/runs/3qz1qr8x\" target=\"_blank\">hearty-valley-2</a></strong> to <a href=\"https://wandb.ai/dulo/sem_seg\" target=\"_blank\">Weights & Biases</a> (<a href=\"https://wandb.me/run\" target=\"_blank\">docs</a>)<br/>"
      ],
      "text/plain": [
       "<IPython.core.display.HTML object>"
      ]
     },
     "metadata": {},
     "output_type": "display_data"
    }
   ],
   "source": [
    "# start a new wandb run\n",
    "run = wandb.init(project=params.WANDB_PROJECT, entity=params.ENTITY, job_type=\"data_upload\")\n",
    "\n",
    "# create an artifact\n",
    "raw_data_at = wandb.Artifact(params.RAW_DATA_AT, type=\"raw_data\")"
   ]
  },
  {
   "cell_type": "code",
   "execution_count": 13,
   "id": "f2de6968-b465-4e2e-aaf1-787a48c7981e",
   "metadata": {},
   "outputs": [],
   "source": [
    "# raw_data_at.add_file(path/'LICENSE.txt', name='LICENSE.txt')"
   ]
  },
  {
   "cell_type": "markdown",
   "id": "10addc71-201d-4c29-af23-9a5d9a5cbddf",
   "metadata": {},
   "source": [
    "Let's add the images and label masks."
   ]
  },
  {
   "cell_type": "code",
   "execution_count": 14,
   "id": "e2e29a83-ec60-4518-8b73-078f1719bc8f",
   "metadata": {},
   "outputs": [
    {
     "name": "stderr",
     "output_type": "stream",
     "text": [
      "\u001b[34m\u001b[1mwandb\u001b[0m: Adding directory to artifact (/Users/jobdulo/.fastai/data/archive/images)... Done. 0.1s\n",
      "\u001b[34m\u001b[1mwandb\u001b[0m: Adding directory to artifact (/Users/jobdulo/.fastai/data/archive/masks)... Done. 0.1s\n"
     ]
    }
   ],
   "source": [
    "# ADD FOLDERS TO ARTIFACT\n",
    "raw_data_at.add_dir(path/'images', name='images')\n",
    "raw_data_at.add_dir(path/'masks', name='masks')"
   ]
  },
  {
   "cell_type": "markdown",
   "id": "01b989eb-36da-4194-9a34-88126749f210",
   "metadata": {},
   "source": [
    "Let's get the file names of images in our dataset and use the function we defined above to create a W&B Table. "
   ]
  },
  {
   "cell_type": "code",
   "execution_count": 15,
   "id": "17490b58-a8f2-489e-9c71-ca0e078591dc",
   "metadata": {},
   "outputs": [],
   "source": [
    "DEBUG = False # set this flag to True to use a small subset of data for testing"
   ]
  },
  {
   "cell_type": "code",
   "execution_count": 16,
   "id": "aeaa2dae-1b2b-4c70-8dcf-b079f4f05b86",
   "metadata": {},
   "outputs": [
    {
     "name": "stdout",
     "output_type": "stream",
     "text": [
      "[Path('/Users/jobdulo/.fastai/data/archive/images/4000086.jpg'), Path('/Users/jobdulo/.fastai/data/archive/images/6000199.jpg'), Path('/Users/jobdulo/.fastai/data/archive/images/0101121.jpg'), Path('/Users/jobdulo/.fastai/data/archive/images/6000172.jpg'), Path('/Users/jobdulo/.fastai/data/archive/images/6000166.jpg'), Path('/Users/jobdulo/.fastai/data/archive/images/0102170.jpg'), Path('/Users/jobdulo/.fastai/data/archive/images/3001667.jpg'), Path('/Users/jobdulo/.fastai/data/archive/images/5000191.jpg'), Path('/Users/jobdulo/.fastai/data/archive/images/0101492.jpg'), Path('/Users/jobdulo/.fastai/data/archive/images/0103468.jpg'), Path('/Users/jobdulo/.fastai/data/archive/images/3001061.jpg'), Path('/Users/jobdulo/.fastai/data/archive/images/2000042.jpg'), Path('/Users/jobdulo/.fastai/data/archive/images/6000238.jpg'), Path('/Users/jobdulo/.fastai/data/archive/images/1001195.jpg'), Path('/Users/jobdulo/.fastai/data/archive/images/9003836.jpg'), Path('/Users/jobdulo/.fastai/data/archive/images/6000204.jpg'), Path('/Users/jobdulo/.fastai/data/archive/images/6000210.jpg'), Path('/Users/jobdulo/.fastai/data/archive/images/3003448.jpg'), Path('/Users/jobdulo/.fastai/data/archive/images/9004368.jpg'), Path('/Users/jobdulo/.fastai/data/archive/images/6000006.jpg'), Path('/Users/jobdulo/.fastai/data/archive/images/9004383.jpg'), Path('/Users/jobdulo/.fastai/data/archive/images/6000012.jpg'), Path('/Users/jobdulo/.fastai/data/archive/images/0010830.jpg'), Path('/Users/jobdulo/.fastai/data/archive/images/6000013.jpg'), Path('/Users/jobdulo/.fastai/data/archive/images/6000007.jpg'), Path('/Users/jobdulo/.fastai/data/archive/images/9004427.jpg'), Path('/Users/jobdulo/.fastai/data/archive/images/1000063.jpg'), Path('/Users/jobdulo/.fastai/data/archive/images/9000127.jpg'), Path('/Users/jobdulo/.fastai/data/archive/images/6000211.jpg'), Path('/Users/jobdulo/.fastai/data/archive/images/6000205.jpg'), Path('/Users/jobdulo/.fastai/data/archive/images/6000239.jpg'), Path('/Users/jobdulo/.fastai/data/archive/images/0102039.jpg'), Path('/Users/jobdulo/.fastai/data/archive/images/9001991.jpg'), Path('/Users/jobdulo/.fastai/data/archive/images/2000043.jpg'), Path('/Users/jobdulo/.fastai/data/archive/images/8000811.jpg'), Path('/Users/jobdulo/.fastai/data/archive/images/5000147.jpg'), Path('/Users/jobdulo/.fastai/data/archive/images/4100246.jpg'), Path('/Users/jobdulo/.fastai/data/archive/images/5000190.jpg'), Path('/Users/jobdulo/.fastai/data/archive/images/5000184.jpg'), Path('/Users/jobdulo/.fastai/data/archive/images/6000167.jpg'), Path('/Users/jobdulo/.fastai/data/archive/images/6000173.jpg'), Path('/Users/jobdulo/.fastai/data/archive/images/0010950.jpg'), Path('/Users/jobdulo/.fastai/data/archive/images/0007545.jpg'), Path('/Users/jobdulo/.fastai/data/archive/images/6000198.jpg'), Path('/Users/jobdulo/.fastai/data/archive/images/0102403.jpg'), Path('/Users/jobdulo/.fastai/data/archive/images/6000159.jpg'), Path('/Users/jobdulo/.fastai/data/archive/images/9002861.jpg'), Path('/Users/jobdulo/.fastai/data/archive/images/6000165.jpg'), Path('/Users/jobdulo/.fastai/data/archive/images/6000171.jpg'), Path('/Users/jobdulo/.fastai/data/archive/images/0105146.jpg'), Path('/Users/jobdulo/.fastai/data/archive/images/5000192.jpg'), Path('/Users/jobdulo/.fastai/data/archive/images/0000176.jpg'), Path('/Users/jobdulo/.fastai/data/archive/images/2000041.jpg'), Path('/Users/jobdulo/.fastai/data/archive/images/1000505.jpg'), Path('/Users/jobdulo/.fastai/data/archive/images/1000288.jpg'), Path('/Users/jobdulo/.fastai/data/archive/images/3002594.jpg'), Path('/Users/jobdulo/.fastai/data/archive/images/6000213.jpg'), Path('/Users/jobdulo/.fastai/data/archive/images/6000207.jpg'), Path('/Users/jobdulo/.fastai/data/archive/images/1000061.jpg'), Path('/Users/jobdulo/.fastai/data/archive/images/6000039.jpg'), Path('/Users/jobdulo/.fastai/data/archive/images/6000011.jpg'), Path('/Users/jobdulo/.fastai/data/archive/images/6000005.jpg'), Path('/Users/jobdulo/.fastai/data/archive/images/6000004.jpg'), Path('/Users/jobdulo/.fastai/data/archive/images/6000010.jpg'), Path('/Users/jobdulo/.fastai/data/archive/images/5000226.jpg'), Path('/Users/jobdulo/.fastai/data/archive/images/6000038.jpg'), Path('/Users/jobdulo/.fastai/data/archive/images/0100822.jpg'), Path('/Users/jobdulo/.fastai/data/archive/images/6000206.jpg'), Path('/Users/jobdulo/.fastai/data/archive/images/6000212.jpg'), Path('/Users/jobdulo/.fastai/data/archive/images/0104463.jpg'), Path('/Users/jobdulo/.fastai/data/archive/images/5000144.jpg'), Path('/Users/jobdulo/.fastai/data/archive/images/5000150.jpg'), Path('/Users/jobdulo/.fastai/data/archive/images/0000759.jpg'), Path('/Users/jobdulo/.fastai/data/archive/images/6000170.jpg'), Path('/Users/jobdulo/.fastai/data/archive/images/6000164.jpg'), Path('/Users/jobdulo/.fastai/data/archive/images/6000158.jpg'), Path('/Users/jobdulo/.fastai/data/archive/images/1000882.jpg'), Path('/Users/jobdulo/.fastai/data/archive/images/6000160.jpg'), Path('/Users/jobdulo/.fastai/data/archive/images/6000174.jpg'), Path('/Users/jobdulo/.fastai/data/archive/images/6000148.jpg'), Path('/Users/jobdulo/.fastai/data/archive/images/5000197.jpg'), Path('/Users/jobdulo/.fastai/data/archive/images/5000183.jpg'), Path('/Users/jobdulo/.fastai/data/archive/images/3002340.jpg'), Path('/Users/jobdulo/.fastai/data/archive/images/3001891.jpg'), Path('/Users/jobdulo/.fastai/data/archive/images/0000952.jpg'), Path('/Users/jobdulo/.fastai/data/archive/images/9004965.jpg'), Path('/Users/jobdulo/.fastai/data/archive/images/5000168.jpg'), Path('/Users/jobdulo/.fastai/data/archive/images/9004971.jpg'), Path('/Users/jobdulo/.fastai/data/archive/images/2000044.jpg'), Path('/Users/jobdulo/.fastai/data/archive/images/6000216.jpg'), Path('/Users/jobdulo/.fastai/data/archive/images/0004498.jpg'), Path('/Users/jobdulo/.fastai/data/archive/images/6000202.jpg'), Path('/Users/jobdulo/.fastai/data/archive/images/0102566.jpg'), Path('/Users/jobdulo/.fastai/data/archive/images/3003328.jpg'), Path('/Users/jobdulo/.fastai/data/archive/images/6000014.jpg'), Path('/Users/jobdulo/.fastai/data/archive/images/6000000.jpg'), Path('/Users/jobdulo/.fastai/data/archive/images/9000875.jpg'), Path('/Users/jobdulo/.fastai/data/archive/images/6000028.jpg'), Path('/Users/jobdulo/.fastai/data/archive/images/6000029.jpg'), Path('/Users/jobdulo/.fastai/data/archive/images/6000001.jpg'), Path('/Users/jobdulo/.fastai/data/archive/images/6000015.jpg'), Path('/Users/jobdulo/.fastai/data/archive/images/9004353.jpg'), Path('/Users/jobdulo/.fastai/data/archive/images/6000203.jpg'), Path('/Users/jobdulo/.fastai/data/archive/images/6000217.jpg'), Path('/Users/jobdulo/.fastai/data/archive/images/9001001.jpg'), Path('/Users/jobdulo/.fastai/data/archive/images/3002221.jpg'), Path('/Users/jobdulo/.fastai/data/archive/images/9005273.jpg'), Path('/Users/jobdulo/.fastai/data/archive/images/0100628.jpg'), Path('/Users/jobdulo/.fastai/data/archive/images/1001794.jpg'), Path('/Users/jobdulo/.fastai/data/archive/images/5000182.jpg'), Path('/Users/jobdulo/.fastai/data/archive/images/5000196.jpg'), Path('/Users/jobdulo/.fastai/data/archive/images/6000149.jpg'), Path('/Users/jobdulo/.fastai/data/archive/images/9000928.jpg'), Path('/Users/jobdulo/.fastai/data/archive/images/6000175.jpg'), Path('/Users/jobdulo/.fastai/data/archive/images/6000161.jpg'), Path('/Users/jobdulo/.fastai/data/archive/images/9005105.jpg'), Path('/Users/jobdulo/.fastai/data/archive/images/1000105.jpg'), Path('/Users/jobdulo/.fastai/data/archive/images/3001460.jpg'), Path('/Users/jobdulo/.fastai/data/archive/images/6000188.jpg'), Path('/Users/jobdulo/.fastai/data/archive/images/6000177.jpg'), Path('/Users/jobdulo/.fastai/data/archive/images/6000163.jpg'), Path('/Users/jobdulo/.fastai/data/archive/images/5000180.jpg'), Path('/Users/jobdulo/.fastai/data/archive/images/5000194.jpg'), Path('/Users/jobdulo/.fastai/data/archive/images/6000349.jpg'), Path('/Users/jobdulo/.fastai/data/archive/images/8005616.jpg'), Path('/Users/jobdulo/.fastai/data/archive/images/0100164.jpg'), Path('/Users/jobdulo/.fastai/data/archive/images/6000201.jpg'), Path('/Users/jobdulo/.fastai/data/archive/images/6000215.jpg'), Path('/Users/jobdulo/.fastai/data/archive/images/1001184.jpg'), Path('/Users/jobdulo/.fastai/data/archive/images/6000229.jpg'), Path('/Users/jobdulo/.fastai/data/archive/images/6000003.jpg'), Path('/Users/jobdulo/.fastai/data/archive/images/6000017.jpg'), Path('/Users/jobdulo/.fastai/data/archive/images/6000016.jpg'), Path('/Users/jobdulo/.fastai/data/archive/images/5000234.jpg'), Path('/Users/jobdulo/.fastai/data/archive/images/6000002.jpg'), Path('/Users/jobdulo/.fastai/data/archive/images/9002090.jpg'), Path('/Users/jobdulo/.fastai/data/archive/images/3002020.jpg'), Path('/Users/jobdulo/.fastai/data/archive/images/9000136.jpg'), Path('/Users/jobdulo/.fastai/data/archive/images/6000228.jpg'), Path('/Users/jobdulo/.fastai/data/archive/images/6000214.jpg'), Path('/Users/jobdulo/.fastai/data/archive/images/6000200.jpg'), Path('/Users/jobdulo/.fastai/data/archive/images/6000348.jpg'), Path('/Users/jobdulo/.fastai/data/archive/images/4100280.jpg'), Path('/Users/jobdulo/.fastai/data/archive/images/0005633.jpg'), Path('/Users/jobdulo/.fastai/data/archive/images/5000195.jpg'), Path('/Users/jobdulo/.fastai/data/archive/images/0103256.jpg'), Path('/Users/jobdulo/.fastai/data/archive/images/5000181.jpg'), Path('/Users/jobdulo/.fastai/data/archive/images/9004581.jpg'), Path('/Users/jobdulo/.fastai/data/archive/images/6000162.jpg'), Path('/Users/jobdulo/.fastai/data/archive/images/6000176.jpg'), Path('/Users/jobdulo/.fastai/data/archive/images/3002154.jpg'), Path('/Users/jobdulo/.fastai/data/archive/images/6000189.jpg'), Path('/Users/jobdulo/.fastai/data/archive/images/0004774.jpg'), Path('/Users/jobdulo/.fastai/data/archive/images/8003836.jpg'), Path('/Users/jobdulo/.fastai/data/archive/images/6000139.jpg'), Path('/Users/jobdulo/.fastai/data/archive/images/9004294.jpg'), Path('/Users/jobdulo/.fastai/data/archive/images/6000111.jpg'), Path('/Users/jobdulo/.fastai/data/archive/images/6000105.jpg'), Path('/Users/jobdulo/.fastai/data/archive/images/5000119.jpg'), Path('/Users/jobdulo/.fastai/data/archive/images/6000313.jpg'), Path('/Users/jobdulo/.fastai/data/archive/images/5000125.jpg'), Path('/Users/jobdulo/.fastai/data/archive/images/5000131.jpg'), Path('/Users/jobdulo/.fastai/data/archive/images/6000307.jpg'), Path('/Users/jobdulo/.fastai/data/archive/images/6000298.jpg'), Path('/Users/jobdulo/.fastai/data/archive/images/9001071.jpg'), Path('/Users/jobdulo/.fastai/data/archive/images/0003423.jpg'), Path('/Users/jobdulo/.fastai/data/archive/images/2000035.jpg'), Path('/Users/jobdulo/.fastai/data/archive/images/0011033.jpg'), Path('/Users/jobdulo/.fastai/data/archive/images/6000267.jpg'), Path('/Users/jobdulo/.fastai/data/archive/images/6000273.jpg'), Path('/Users/jobdulo/.fastai/data/archive/images/1100029.jpg'), Path('/Users/jobdulo/.fastai/data/archive/images/1100015.jpg'), Path('/Users/jobdulo/.fastai/data/archive/images/1100001.jpg'), Path('/Users/jobdulo/.fastai/data/archive/images/6000059.jpg'), Path('/Users/jobdulo/.fastai/data/archive/images/6000065.jpg'), Path('/Users/jobdulo/.fastai/data/archive/images/6000071.jpg'), Path('/Users/jobdulo/.fastai/data/archive/images/6000070.jpg'), Path('/Users/jobdulo/.fastai/data/archive/images/6000064.jpg'), Path('/Users/jobdulo/.fastai/data/archive/images/6000058.jpg'), Path('/Users/jobdulo/.fastai/data/archive/images/9002021.jpg'), Path('/Users/jobdulo/.fastai/data/archive/images/1100014.jpg'), Path('/Users/jobdulo/.fastai/data/archive/images/1001875.jpg'), Path('/Users/jobdulo/.fastai/data/archive/images/6000272.jpg'), Path('/Users/jobdulo/.fastai/data/archive/images/6000266.jpg'), Path('/Users/jobdulo/.fastai/data/archive/images/1001685.jpg'), Path('/Users/jobdulo/.fastai/data/archive/images/0103344.jpg'), Path('/Users/jobdulo/.fastai/data/archive/images/2000034.jpg'), Path('/Users/jobdulo/.fastai/data/archive/images/6000299.jpg'), Path('/Users/jobdulo/.fastai/data/archive/images/2000008.jpg'), Path('/Users/jobdulo/.fastai/data/archive/images/5000130.jpg'), Path('/Users/jobdulo/.fastai/data/archive/images/6000306.jpg'), Path('/Users/jobdulo/.fastai/data/archive/images/6000312.jpg'), Path('/Users/jobdulo/.fastai/data/archive/images/5000124.jpg'), Path('/Users/jobdulo/.fastai/data/archive/images/6000104.jpg'), Path('/Users/jobdulo/.fastai/data/archive/images/6000110.jpg'), Path('/Users/jobdulo/.fastai/data/archive/images/6000138.jpg'), Path('/Users/jobdulo/.fastai/data/archive/images/9004242.jpg'), Path('/Users/jobdulo/.fastai/data/archive/images/0103740.jpg'), Path('/Users/jobdulo/.fastai/data/archive/images/6000106.jpg'), Path('/Users/jobdulo/.fastai/data/archive/images/6000112.jpg'), Path('/Users/jobdulo/.fastai/data/archive/images/0100061.jpg'), Path('/Users/jobdulo/.fastai/data/archive/images/8008545.jpg'), Path('/Users/jobdulo/.fastai/data/archive/images/6000338.jpg'), Path('/Users/jobdulo/.fastai/data/archive/images/6000304.jpg'), Path('/Users/jobdulo/.fastai/data/archive/images/5000132.jpg'), Path('/Users/jobdulo/.fastai/data/archive/images/5000126.jpg'), Path('/Users/jobdulo/.fastai/data/archive/images/6000310.jpg'), Path('/Users/jobdulo/.fastai/data/archive/images/0005079.jpg'), Path('/Users/jobdulo/.fastai/data/archive/images/3000323.jpg'), Path('/Users/jobdulo/.fastai/data/archive/images/2000022.jpg'), Path('/Users/jobdulo/.fastai/data/archive/images/0103420.jpg'), Path('/Users/jobdulo/.fastai/data/archive/images/2000036.jpg'), Path('/Users/jobdulo/.fastai/data/archive/images/3001767.jpg'), Path('/Users/jobdulo/.fastai/data/archive/images/6000258.jpg'), Path('/Users/jobdulo/.fastai/data/archive/images/6000270.jpg'), Path('/Users/jobdulo/.fastai/data/archive/images/6000264.jpg'), Path('/Users/jobdulo/.fastai/data/archive/images/9003301.jpg'), Path('/Users/jobdulo/.fastai/data/archive/images/6000099.jpg'), Path('/Users/jobdulo/.fastai/data/archive/images/0003178.jpg'), Path('/Users/jobdulo/.fastai/data/archive/images/1100002.jpg'), Path('/Users/jobdulo/.fastai/data/archive/images/1100016.jpg'), Path('/Users/jobdulo/.fastai/data/archive/images/3002905.jpg'), Path('/Users/jobdulo/.fastai/data/archive/images/6000072.jpg'), Path('/Users/jobdulo/.fastai/data/archive/images/6000066.jpg'), Path('/Users/jobdulo/.fastai/data/archive/images/6000067.jpg'), Path('/Users/jobdulo/.fastai/data/archive/images/6000073.jpg'), Path('/Users/jobdulo/.fastai/data/archive/images/0007323.jpg'), Path('/Users/jobdulo/.fastai/data/archive/images/1100017.jpg'), Path('/Users/jobdulo/.fastai/data/archive/images/1100003.jpg'), Path('/Users/jobdulo/.fastai/data/archive/images/6000098.jpg'), Path('/Users/jobdulo/.fastai/data/archive/images/6000265.jpg'), Path('/Users/jobdulo/.fastai/data/archive/images/0100855.jpg'), Path('/Users/jobdulo/.fastai/data/archive/images/6000271.jpg'), Path('/Users/jobdulo/.fastai/data/archive/images/6000259.jpg'), Path('/Users/jobdulo/.fastai/data/archive/images/2000037.jpg'), Path('/Users/jobdulo/.fastai/data/archive/images/2000023.jpg'), Path('/Users/jobdulo/.fastai/data/archive/images/9003116.jpg'), Path('/Users/jobdulo/.fastai/data/archive/images/5000127.jpg'), Path('/Users/jobdulo/.fastai/data/archive/images/6000311.jpg'), Path('/Users/jobdulo/.fastai/data/archive/images/0100935.jpg'), Path('/Users/jobdulo/.fastai/data/archive/images/6000305.jpg'), Path('/Users/jobdulo/.fastai/data/archive/images/5000133.jpg'), Path('/Users/jobdulo/.fastai/data/archive/images/6000339.jpg'), Path('/Users/jobdulo/.fastai/data/archive/images/1000413.jpg'), Path('/Users/jobdulo/.fastai/data/archive/images/6000113.jpg'), Path('/Users/jobdulo/.fastai/data/archive/images/6000107.jpg'), Path('/Users/jobdulo/.fastai/data/archive/images/0101801.jpg'), Path('/Users/jobdulo/.fastai/data/archive/images/0004028.jpg'), Path('/Users/jobdulo/.fastai/data/archive/images/1000615.jpg'), Path('/Users/jobdulo/.fastai/data/archive/images/9000989.jpg'), Path('/Users/jobdulo/.fastai/data/archive/images/6000103.jpg'), Path('/Users/jobdulo/.fastai/data/archive/images/6000117.jpg'), Path('/Users/jobdulo/.fastai/data/archive/images/0101434.jpg'), Path('/Users/jobdulo/.fastai/data/archive/images/5000137.jpg'), Path('/Users/jobdulo/.fastai/data/archive/images/6000301.jpg'), Path('/Users/jobdulo/.fastai/data/archive/images/6000315.jpg'), Path('/Users/jobdulo/.fastai/data/archive/images/5000123.jpg'), Path('/Users/jobdulo/.fastai/data/archive/images/6000329.jpg'), Path('/Users/jobdulo/.fastai/data/archive/images/0100892.jpg'), Path('/Users/jobdulo/.fastai/data/archive/images/2000033.jpg'), Path('/Users/jobdulo/.fastai/data/archive/images/3001004.jpg'), Path('/Users/jobdulo/.fastai/data/archive/images/0006575.jpg'), Path('/Users/jobdulo/.fastai/data/archive/images/3000454.jpg'), Path('/Users/jobdulo/.fastai/data/archive/images/6000275.jpg'), Path('/Users/jobdulo/.fastai/data/archive/images/0100851.jpg'), Path('/Users/jobdulo/.fastai/data/archive/images/6000261.jpg'), Path('/Users/jobdulo/.fastai/data/archive/images/6000249.jpg'), Path('/Users/jobdulo/.fastai/data/archive/images/1100007.jpg'), Path('/Users/jobdulo/.fastai/data/archive/images/1100013.jpg'), Path('/Users/jobdulo/.fastai/data/archive/images/6000088.jpg'), Path('/Users/jobdulo/.fastai/data/archive/images/6000077.jpg'), Path('/Users/jobdulo/.fastai/data/archive/images/6000063.jpg'), Path('/Users/jobdulo/.fastai/data/archive/images/3002082.jpg'), Path('/Users/jobdulo/.fastai/data/archive/images/9002972.jpg'), Path('/Users/jobdulo/.fastai/data/archive/images/1000947.jpg'), Path('/Users/jobdulo/.fastai/data/archive/images/0104808.jpg'), Path('/Users/jobdulo/.fastai/data/archive/images/6000062.jpg'), Path('/Users/jobdulo/.fastai/data/archive/images/6000076.jpg'), Path('/Users/jobdulo/.fastai/data/archive/images/6000089.jpg'), Path('/Users/jobdulo/.fastai/data/archive/images/3000119.jpg'), Path('/Users/jobdulo/.fastai/data/archive/images/9003339.jpg'), Path('/Users/jobdulo/.fastai/data/archive/images/1100006.jpg'), Path('/Users/jobdulo/.fastai/data/archive/images/6000248.jpg'), Path('/Users/jobdulo/.fastai/data/archive/images/6000260.jpg'), Path('/Users/jobdulo/.fastai/data/archive/images/6000274.jpg'), Path('/Users/jobdulo/.fastai/data/archive/images/0104439.jpg'), Path('/Users/jobdulo/.fastai/data/archive/images/2000032.jpg'), Path('/Users/jobdulo/.fastai/data/archive/images/3000469.jpg'), Path('/Users/jobdulo/.fastai/data/archive/images/6000328.jpg'), Path('/Users/jobdulo/.fastai/data/archive/images/6000314.jpg'), Path('/Users/jobdulo/.fastai/data/archive/images/5000122.jpg'), Path('/Users/jobdulo/.fastai/data/archive/images/6000300.jpg'), Path('/Users/jobdulo/.fastai/data/archive/images/0000059.jpg'), Path('/Users/jobdulo/.fastai/data/archive/images/0011154.jpg'), Path('/Users/jobdulo/.fastai/data/archive/images/6000116.jpg'), Path('/Users/jobdulo/.fastai/data/archive/images/6000102.jpg'), Path('/Users/jobdulo/.fastai/data/archive/images/9001300.jpg'), Path('/Users/jobdulo/.fastai/data/archive/images/9004520.jpg'), Path('/Users/jobdulo/.fastai/data/archive/images/1001252.jpg'), Path('/Users/jobdulo/.fastai/data/archive/images/6000114.jpg'), Path('/Users/jobdulo/.fastai/data/archive/images/0003793.jpg'), Path('/Users/jobdulo/.fastai/data/archive/images/6000100.jpg'), Path('/Users/jobdulo/.fastai/data/archive/images/6000128.jpg'), Path('/Users/jobdulo/.fastai/data/archive/images/5000120.jpg'), Path('/Users/jobdulo/.fastai/data/archive/images/6000316.jpg'), Path('/Users/jobdulo/.fastai/data/archive/images/6000302.jpg'), Path('/Users/jobdulo/.fastai/data/archive/images/3001826.jpg'), Path('/Users/jobdulo/.fastai/data/archive/images/2000030.jpg'), Path('/Users/jobdulo/.fastai/data/archive/images/6000289.jpg'), Path('/Users/jobdulo/.fastai/data/archive/images/0100113.jpg'), Path('/Users/jobdulo/.fastai/data/archive/images/6000262.jpg'), Path('/Users/jobdulo/.fastai/data/archive/images/6000276.jpg'), Path('/Users/jobdulo/.fastai/data/archive/images/9000395.jpg'), Path('/Users/jobdulo/.fastai/data/archive/images/1100004.jpg'), Path('/Users/jobdulo/.fastai/data/archive/images/0100477.jpg'), Path('/Users/jobdulo/.fastai/data/archive/images/6000060.jpg'), Path('/Users/jobdulo/.fastai/data/archive/images/6000074.jpg'), Path('/Users/jobdulo/.fastai/data/archive/images/6000048.jpg'), Path('/Users/jobdulo/.fastai/data/archive/images/8003952.jpg'), Path('/Users/jobdulo/.fastai/data/archive/images/6000049.jpg'), Path('/Users/jobdulo/.fastai/data/archive/images/6000075.jpg'), Path('/Users/jobdulo/.fastai/data/archive/images/6000061.jpg'), Path('/Users/jobdulo/.fastai/data/archive/images/5000257.jpg'), Path('/Users/jobdulo/.fastai/data/archive/images/9005011.jpg'), Path('/Users/jobdulo/.fastai/data/archive/images/1000993.jpg'), Path('/Users/jobdulo/.fastai/data/archive/images/1100005.jpg'), Path('/Users/jobdulo/.fastai/data/archive/images/1100011.jpg'), Path('/Users/jobdulo/.fastai/data/archive/images/6000277.jpg'), Path('/Users/jobdulo/.fastai/data/archive/images/6000263.jpg'), Path('/Users/jobdulo/.fastai/data/archive/images/6000288.jpg'), Path('/Users/jobdulo/.fastai/data/archive/images/9001713.jpg'), Path('/Users/jobdulo/.fastai/data/archive/images/2000019.jpg'), Path('/Users/jobdulo/.fastai/data/archive/images/2000025.jpg'), Path('/Users/jobdulo/.fastai/data/archive/images/2000031.jpg'), Path('/Users/jobdulo/.fastai/data/archive/images/6000303.jpg'), Path('/Users/jobdulo/.fastai/data/archive/images/5000121.jpg'), Path('/Users/jobdulo/.fastai/data/archive/images/6000317.jpg'), Path('/Users/jobdulo/.fastai/data/archive/images/0000072.jpg'), Path('/Users/jobdulo/.fastai/data/archive/images/6000129.jpg'), Path('/Users/jobdulo/.fastai/data/archive/images/6000101.jpg'), Path('/Users/jobdulo/.fastai/data/archive/images/6000115.jpg'), Path('/Users/jobdulo/.fastai/data/archive/images/9001317.jpg'), Path('/Users/jobdulo/.fastai/data/archive/images/9000747.jpg'), Path('/Users/jobdulo/.fastai/data/archive/images/8008998.jpg'), Path('/Users/jobdulo/.fastai/data/archive/images/8002274.jpg'), Path('/Users/jobdulo/.fastai/data/archive/images/0100241.jpg'), Path('/Users/jobdulo/.fastai/data/archive/images/0105305.jpg'), Path('/Users/jobdulo/.fastai/data/archive/images/6000118.jpg'), Path('/Users/jobdulo/.fastai/data/archive/images/6000130.jpg'), Path('/Users/jobdulo/.fastai/data/archive/images/6000124.jpg'), Path('/Users/jobdulo/.fastai/data/archive/images/9004060.jpg'), Path('/Users/jobdulo/.fastai/data/archive/images/6000332.jpg'), Path('/Users/jobdulo/.fastai/data/archive/images/6000326.jpg'), Path('/Users/jobdulo/.fastai/data/archive/images/8004573.jpg'), Path('/Users/jobdulo/.fastai/data/archive/images/9003135.jpg'), Path('/Users/jobdulo/.fastai/data/archive/images/2000028.jpg'), Path('/Users/jobdulo/.fastai/data/archive/images/6000285.jpg'), Path('/Users/jobdulo/.fastai/data/archive/images/6000291.jpg'), Path('/Users/jobdulo/.fastai/data/archive/images/3001751.jpg'), Path('/Users/jobdulo/.fastai/data/archive/images/3001976.jpg'), Path('/Users/jobdulo/.fastai/data/archive/images/6000246.jpg'), Path('/Users/jobdulo/.fastai/data/archive/images/6000252.jpg'), Path('/Users/jobdulo/.fastai/data/archive/images/1100008.jpg'), Path('/Users/jobdulo/.fastai/data/archive/images/6000087.jpg'), Path('/Users/jobdulo/.fastai/data/archive/images/6000093.jpg'), Path('/Users/jobdulo/.fastai/data/archive/images/6000078.jpg'), Path('/Users/jobdulo/.fastai/data/archive/images/6000044.jpg'), Path('/Users/jobdulo/.fastai/data/archive/images/6000050.jpg'), Path('/Users/jobdulo/.fastai/data/archive/images/6000051.jpg'), Path('/Users/jobdulo/.fastai/data/archive/images/6000045.jpg'), Path('/Users/jobdulo/.fastai/data/archive/images/6000079.jpg'), Path('/Users/jobdulo/.fastai/data/archive/images/6000092.jpg'), Path('/Users/jobdulo/.fastai/data/archive/images/6000086.jpg'), Path('/Users/jobdulo/.fastai/data/archive/images/1100009.jpg'), Path('/Users/jobdulo/.fastai/data/archive/images/6000253.jpg'), Path('/Users/jobdulo/.fastai/data/archive/images/6000247.jpg'), Path('/Users/jobdulo/.fastai/data/archive/images/2000001.jpg'), Path('/Users/jobdulo/.fastai/data/archive/images/6000290.jpg'), Path('/Users/jobdulo/.fastai/data/archive/images/6000284.jpg'), Path('/Users/jobdulo/.fastai/data/archive/images/6000327.jpg'), Path('/Users/jobdulo/.fastai/data/archive/images/6000333.jpg'), Path('/Users/jobdulo/.fastai/data/archive/images/6000125.jpg'), Path('/Users/jobdulo/.fastai/data/archive/images/6000131.jpg'), Path('/Users/jobdulo/.fastai/data/archive/images/6000119.jpg'), Path('/Users/jobdulo/.fastai/data/archive/images/3000076.jpg'), Path('/Users/jobdulo/.fastai/data/archive/images/6000127.jpg'), Path('/Users/jobdulo/.fastai/data/archive/images/6000133.jpg'), Path('/Users/jobdulo/.fastai/data/archive/images/6000319.jpg'), Path('/Users/jobdulo/.fastai/data/archive/images/6000325.jpg'), Path('/Users/jobdulo/.fastai/data/archive/images/6000331.jpg'), Path('/Users/jobdulo/.fastai/data/archive/images/6000292.jpg'), Path('/Users/jobdulo/.fastai/data/archive/images/2000003.jpg'), Path('/Users/jobdulo/.fastai/data/archive/images/0105064.jpg'), Path('/Users/jobdulo/.fastai/data/archive/images/6000286.jpg'), Path('/Users/jobdulo/.fastai/data/archive/images/6000279.jpg'), Path('/Users/jobdulo/.fastai/data/archive/images/6000251.jpg'), Path('/Users/jobdulo/.fastai/data/archive/images/6000245.jpg'), Path('/Users/jobdulo/.fastai/data/archive/images/1100023.jpg'), Path('/Users/jobdulo/.fastai/data/archive/images/6000090.jpg'), Path('/Users/jobdulo/.fastai/data/archive/images/3002059.jpg'), Path('/Users/jobdulo/.fastai/data/archive/images/6000084.jpg'), Path('/Users/jobdulo/.fastai/data/archive/images/5000265.jpg'), Path('/Users/jobdulo/.fastai/data/archive/images/6000053.jpg'), Path('/Users/jobdulo/.fastai/data/archive/images/6000047.jpg'), Path('/Users/jobdulo/.fastai/data/archive/images/6000046.jpg'), Path('/Users/jobdulo/.fastai/data/archive/images/5000264.jpg'), Path('/Users/jobdulo/.fastai/data/archive/images/6000052.jpg'), Path('/Users/jobdulo/.fastai/data/archive/images/6000085.jpg'), Path('/Users/jobdulo/.fastai/data/archive/images/6000091.jpg'), Path('/Users/jobdulo/.fastai/data/archive/images/0102534.jpg'), Path('/Users/jobdulo/.fastai/data/archive/images/6000244.jpg'), Path('/Users/jobdulo/.fastai/data/archive/images/6000250.jpg'), Path('/Users/jobdulo/.fastai/data/archive/images/6000278.jpg'), Path('/Users/jobdulo/.fastai/data/archive/images/6000287.jpg'), Path('/Users/jobdulo/.fastai/data/archive/images/6000293.jpg'), Path('/Users/jobdulo/.fastai/data/archive/images/2000002.jpg'), Path('/Users/jobdulo/.fastai/data/archive/images/6000330.jpg'), Path('/Users/jobdulo/.fastai/data/archive/images/6000324.jpg'), Path('/Users/jobdulo/.fastai/data/archive/images/6000318.jpg'), Path('/Users/jobdulo/.fastai/data/archive/images/9000210.jpg'), Path('/Users/jobdulo/.fastai/data/archive/images/6000132.jpg'), Path('/Users/jobdulo/.fastai/data/archive/images/6000126.jpg'), Path('/Users/jobdulo/.fastai/data/archive/images/0104958.jpg'), Path('/Users/jobdulo/.fastai/data/archive/images/0104019.jpg'), Path('/Users/jobdulo/.fastai/data/archive/images/3001421.jpg'), Path('/Users/jobdulo/.fastai/data/archive/images/9000002.jpg'), Path('/Users/jobdulo/.fastai/data/archive/images/6000122.jpg'), Path('/Users/jobdulo/.fastai/data/archive/images/6000136.jpg'), Path('/Users/jobdulo/.fastai/data/archive/images/8001974.jpg'), Path('/Users/jobdulo/.fastai/data/archive/images/9004066.jpg'), Path('/Users/jobdulo/.fastai/data/archive/images/0000051.jpg'), Path('/Users/jobdulo/.fastai/data/archive/images/3003791.jpg'), Path('/Users/jobdulo/.fastai/data/archive/images/6000320.jpg'), Path('/Users/jobdulo/.fastai/data/archive/images/6000334.jpg'), Path('/Users/jobdulo/.fastai/data/archive/images/6000308.jpg'), Path('/Users/jobdulo/.fastai/data/archive/images/6000297.jpg'), Path('/Users/jobdulo/.fastai/data/archive/images/6000283.jpg'), Path('/Users/jobdulo/.fastai/data/archive/images/9002577.jpg'), Path('/Users/jobdulo/.fastai/data/archive/images/2000012.jpg'), Path('/Users/jobdulo/.fastai/data/archive/images/0000643.jpg'), Path('/Users/jobdulo/.fastai/data/archive/images/6000254.jpg'), Path('/Users/jobdulo/.fastai/data/archive/images/6000240.jpg'), Path('/Users/jobdulo/.fastai/data/archive/images/6000268.jpg'), Path('/Users/jobdulo/.fastai/data/archive/images/3001555.jpg'), Path('/Users/jobdulo/.fastai/data/archive/images/6000095.jpg'), Path('/Users/jobdulo/.fastai/data/archive/images/8001155.jpg'), Path('/Users/jobdulo/.fastai/data/archive/images/6000081.jpg'), Path('/Users/jobdulo/.fastai/data/archive/images/3003356.jpg'), Path('/Users/jobdulo/.fastai/data/archive/images/3001569.jpg'), Path('/Users/jobdulo/.fastai/data/archive/images/8006160.jpg'), Path('/Users/jobdulo/.fastai/data/archive/images/6000056.jpg'), Path('/Users/jobdulo/.fastai/data/archive/images/6000042.jpg'), Path('/Users/jobdulo/.fastai/data/archive/images/3002909.jpg'), Path('/Users/jobdulo/.fastai/data/archive/images/6000043.jpg'), Path('/Users/jobdulo/.fastai/data/archive/images/6000057.jpg'), Path('/Users/jobdulo/.fastai/data/archive/images/3000676.jpg'), Path('/Users/jobdulo/.fastai/data/archive/images/6000080.jpg'), Path('/Users/jobdulo/.fastai/data/archive/images/6000094.jpg'), Path('/Users/jobdulo/.fastai/data/archive/images/1100027.jpg'), Path('/Users/jobdulo/.fastai/data/archive/images/6000269.jpg'), Path('/Users/jobdulo/.fastai/data/archive/images/6000241.jpg'), Path('/Users/jobdulo/.fastai/data/archive/images/1000580.jpg'), Path('/Users/jobdulo/.fastai/data/archive/images/6000255.jpg'), Path('/Users/jobdulo/.fastai/data/archive/images/3001018.jpg'), Path('/Users/jobdulo/.fastai/data/archive/images/6000282.jpg'), Path('/Users/jobdulo/.fastai/data/archive/images/0005074.jpg'), Path('/Users/jobdulo/.fastai/data/archive/images/6000296.jpg'), Path('/Users/jobdulo/.fastai/data/archive/images/6000309.jpg'), Path('/Users/jobdulo/.fastai/data/archive/images/0000087.jpg'), Path('/Users/jobdulo/.fastai/data/archive/images/6000335.jpg'), Path('/Users/jobdulo/.fastai/data/archive/images/3000299.jpg'), Path('/Users/jobdulo/.fastai/data/archive/images/6000321.jpg'), Path('/Users/jobdulo/.fastai/data/archive/images/1000351.jpg'), Path('/Users/jobdulo/.fastai/data/archive/images/9002827.jpg'), Path('/Users/jobdulo/.fastai/data/archive/images/6000137.jpg'), Path('/Users/jobdulo/.fastai/data/archive/images/6000123.jpg'), Path('/Users/jobdulo/.fastai/data/archive/images/3000716.jpg'), Path('/Users/jobdulo/.fastai/data/archive/images/9003250.jpg'), Path('/Users/jobdulo/.fastai/data/archive/images/9000003.jpg'), Path('/Users/jobdulo/.fastai/data/archive/images/9000001.jpg'), Path('/Users/jobdulo/.fastai/data/archive/images/9000029.jpg'), Path('/Users/jobdulo/.fastai/data/archive/images/3000072.jpg'), Path('/Users/jobdulo/.fastai/data/archive/images/6000135.jpg'), Path('/Users/jobdulo/.fastai/data/archive/images/3000099.jpg'), Path('/Users/jobdulo/.fastai/data/archive/images/6000121.jpg'), Path('/Users/jobdulo/.fastai/data/archive/images/6000109.jpg'), Path('/Users/jobdulo/.fastai/data/archive/images/0104552.jpg'), Path('/Users/jobdulo/.fastai/data/archive/images/6000337.jpg'), Path('/Users/jobdulo/.fastai/data/archive/images/6000323.jpg'), Path('/Users/jobdulo/.fastai/data/archive/images/0100091.jpg'), Path('/Users/jobdulo/.fastai/data/archive/images/0007932.jpg'), Path('/Users/jobdulo/.fastai/data/archive/images/5000129.jpg'), Path('/Users/jobdulo/.fastai/data/archive/images/0011003.jpg'), Path('/Users/jobdulo/.fastai/data/archive/images/6000280.jpg'), Path('/Users/jobdulo/.fastai/data/archive/images/6000294.jpg'), Path('/Users/jobdulo/.fastai/data/archive/images/0100132.jpg'), Path('/Users/jobdulo/.fastai/data/archive/images/2000039.jpg'), Path('/Users/jobdulo/.fastai/data/archive/images/6000243.jpg'), Path('/Users/jobdulo/.fastai/data/archive/images/6000257.jpg'), Path('/Users/jobdulo/.fastai/data/archive/images/1001688.jpg'), Path('/Users/jobdulo/.fastai/data/archive/images/0000697.jpg'), Path('/Users/jobdulo/.fastai/data/archive/images/6000082.jpg'), Path('/Users/jobdulo/.fastai/data/archive/images/1100031.jpg'), Path('/Users/jobdulo/.fastai/data/archive/images/1100025.jpg'), Path('/Users/jobdulo/.fastai/data/archive/images/3001230.jpg'), Path('/Users/jobdulo/.fastai/data/archive/images/9002004.jpg'), Path('/Users/jobdulo/.fastai/data/archive/images/6000096.jpg'), Path('/Users/jobdulo/.fastai/data/archive/images/6000041.jpg'), Path('/Users/jobdulo/.fastai/data/archive/images/6000055.jpg'), Path('/Users/jobdulo/.fastai/data/archive/images/6000069.jpg'), Path('/Users/jobdulo/.fastai/data/archive/images/0104194.jpg'), Path('/Users/jobdulo/.fastai/data/archive/images/6000068.jpg'), Path('/Users/jobdulo/.fastai/data/archive/images/6000054.jpg'), Path('/Users/jobdulo/.fastai/data/archive/images/6000040.jpg'), Path('/Users/jobdulo/.fastai/data/archive/images/9003333.jpg'), Path('/Users/jobdulo/.fastai/data/archive/images/6000097.jpg'), Path('/Users/jobdulo/.fastai/data/archive/images/6000083.jpg'), Path('/Users/jobdulo/.fastai/data/archive/images/1100030.jpg'), Path('/Users/jobdulo/.fastai/data/archive/images/3003817.jpg'), Path('/Users/jobdulo/.fastai/data/archive/images/6000256.jpg'), Path('/Users/jobdulo/.fastai/data/archive/images/9004879.jpg'), Path('/Users/jobdulo/.fastai/data/archive/images/6000242.jpg'), Path('/Users/jobdulo/.fastai/data/archive/images/6000295.jpg'), Path('/Users/jobdulo/.fastai/data/archive/images/2000004.jpg'), Path('/Users/jobdulo/.fastai/data/archive/images/6000281.jpg'), Path('/Users/jobdulo/.fastai/data/archive/images/5000128.jpg'), Path('/Users/jobdulo/.fastai/data/archive/images/6000322.jpg'), Path('/Users/jobdulo/.fastai/data/archive/images/6000336.jpg'), Path('/Users/jobdulo/.fastai/data/archive/images/0002136.jpg'), Path('/Users/jobdulo/.fastai/data/archive/images/0000047.jpg'), Path('/Users/jobdulo/.fastai/data/archive/images/9004070.jpg'), Path('/Users/jobdulo/.fastai/data/archive/images/0003957.jpg'), Path('/Users/jobdulo/.fastai/data/archive/images/6000108.jpg'), Path('/Users/jobdulo/.fastai/data/archive/images/6000120.jpg'), Path('/Users/jobdulo/.fastai/data/archive/images/6000134.jpg'), Path('/Users/jobdulo/.fastai/data/archive/images/0009212.jpg'), Path('/Users/jobdulo/.fastai/data/archive/images/0102435.jpg'), Path('/Users/jobdulo/.fastai/data/archive/images/9003234.jpg'), Path('/Users/jobdulo/.fastai/data/archive/images/6000190.jpg'), Path('/Users/jobdulo/.fastai/data/archive/images/3001336.jpg'), Path('/Users/jobdulo/.fastai/data/archive/images/6000184.jpg'), Path('/Users/jobdulo/.fastai/data/archive/images/9003585.jpg'), Path('/Users/jobdulo/.fastai/data/archive/images/6000153.jpg'), Path('/Users/jobdulo/.fastai/data/archive/images/6000147.jpg'), Path('/Users/jobdulo/.fastai/data/archive/images/5000198.jpg'), Path('/Users/jobdulo/.fastai/data/archive/images/9001184.jpg'), Path('/Users/jobdulo/.fastai/data/archive/images/6000351.jpg'), Path('/Users/jobdulo/.fastai/data/archive/images/6000345.jpg'), Path('/Users/jobdulo/.fastai/data/archive/images/5000173.jpg'), Path('/Users/jobdulo/.fastai/data/archive/images/6000219.jpg'), Path('/Users/jobdulo/.fastai/data/archive/images/6000225.jpg'), Path('/Users/jobdulo/.fastai/data/archive/images/6000231.jpg'), Path('/Users/jobdulo/.fastai/data/archive/images/0101060.jpg'), Path('/Users/jobdulo/.fastai/data/archive/images/1000731.jpg'), Path('/Users/jobdulo/.fastai/data/archive/images/3000148.jpg'), Path('/Users/jobdulo/.fastai/data/archive/images/6000027.jpg'), Path('/Users/jobdulo/.fastai/data/archive/images/5000205.jpg'), Path('/Users/jobdulo/.fastai/data/archive/images/6000033.jpg'), Path('/Users/jobdulo/.fastai/data/archive/images/5000204.jpg'), Path('/Users/jobdulo/.fastai/data/archive/images/6000032.jpg'), Path('/Users/jobdulo/.fastai/data/archive/images/6000026.jpg'), Path('/Users/jobdulo/.fastai/data/archive/images/6000230.jpg'), Path('/Users/jobdulo/.fastai/data/archive/images/6000224.jpg'), Path('/Users/jobdulo/.fastai/data/archive/images/6000218.jpg'), Path('/Users/jobdulo/.fastai/data/archive/images/3002206.jpg'), Path('/Users/jobdulo/.fastai/data/archive/images/6000344.jpg'), Path('/Users/jobdulo/.fastai/data/archive/images/5000172.jpg'), Path('/Users/jobdulo/.fastai/data/archive/images/5000166.jpg'), Path('/Users/jobdulo/.fastai/data/archive/images/6000350.jpg'), Path('/Users/jobdulo/.fastai/data/archive/images/0105159.jpg'), Path('/Users/jobdulo/.fastai/data/archive/images/1001770.jpg'), Path('/Users/jobdulo/.fastai/data/archive/images/5000199.jpg'), Path('/Users/jobdulo/.fastai/data/archive/images/3002366.jpg'), Path('/Users/jobdulo/.fastai/data/archive/images/6000146.jpg'), Path('/Users/jobdulo/.fastai/data/archive/images/6000152.jpg'), Path('/Users/jobdulo/.fastai/data/archive/images/9000933.jpg'), Path('/Users/jobdulo/.fastai/data/archive/images/6000185.jpg'), Path('/Users/jobdulo/.fastai/data/archive/images/0100579.jpg'), Path('/Users/jobdulo/.fastai/data/archive/images/6000191.jpg'), Path('/Users/jobdulo/.fastai/data/archive/images/0102436.jpg'), Path('/Users/jobdulo/.fastai/data/archive/images/0003728.jpg'), Path('/Users/jobdulo/.fastai/data/archive/images/6000187.jpg'), Path('/Users/jobdulo/.fastai/data/archive/images/3000759.jpg'), Path('/Users/jobdulo/.fastai/data/archive/images/6000193.jpg'), Path('/Users/jobdulo/.fastai/data/archive/images/6000178.jpg'), Path('/Users/jobdulo/.fastai/data/archive/images/1000875.jpg'), Path('/Users/jobdulo/.fastai/data/archive/images/6000144.jpg'), Path('/Users/jobdulo/.fastai/data/archive/images/6000150.jpg'), Path('/Users/jobdulo/.fastai/data/archive/images/8002764.jpg'), Path('/Users/jobdulo/.fastai/data/archive/images/9004766.jpg'), Path('/Users/jobdulo/.fastai/data/archive/images/6000346.jpg'), Path('/Users/jobdulo/.fastai/data/archive/images/6000352.jpg'), Path('/Users/jobdulo/.fastai/data/archive/images/5000164.jpg'), Path('/Users/jobdulo/.fastai/data/archive/images/0000631.jpg'), Path('/Users/jobdulo/.fastai/data/archive/images/6000232.jpg'), Path('/Users/jobdulo/.fastai/data/archive/images/6000226.jpg'), Path('/Users/jobdulo/.fastai/data/archive/images/0000382.jpg'), Path('/Users/jobdulo/.fastai/data/archive/images/6000018.jpg'), Path('/Users/jobdulo/.fastai/data/archive/images/1000097.jpg'), Path('/Users/jobdulo/.fastai/data/archive/images/6000030.jpg'), Path('/Users/jobdulo/.fastai/data/archive/images/1000929.jpg'), Path('/Users/jobdulo/.fastai/data/archive/images/6000024.jpg'), Path('/Users/jobdulo/.fastai/data/archive/images/6000025.jpg'), Path('/Users/jobdulo/.fastai/data/archive/images/6000031.jpg'), Path('/Users/jobdulo/.fastai/data/archive/images/6000019.jpg'), Path('/Users/jobdulo/.fastai/data/archive/images/6000227.jpg'), Path('/Users/jobdulo/.fastai/data/archive/images/6000233.jpg'), Path('/Users/jobdulo/.fastai/data/archive/images/9005294.jpg'), Path('/Users/jobdulo/.fastai/data/archive/images/0003463.jpg'), Path('/Users/jobdulo/.fastai/data/archive/images/0011073.jpg'), Path('/Users/jobdulo/.fastai/data/archive/images/0002755.jpg'), Path('/Users/jobdulo/.fastai/data/archive/images/6000353.jpg'), Path('/Users/jobdulo/.fastai/data/archive/images/5000165.jpg'), Path('/Users/jobdulo/.fastai/data/archive/images/6000347.jpg'), Path('/Users/jobdulo/.fastai/data/archive/images/0100787.jpg'), Path('/Users/jobdulo/.fastai/data/archive/images/6000151.jpg'), Path('/Users/jobdulo/.fastai/data/archive/images/6000145.jpg'), Path('/Users/jobdulo/.fastai/data/archive/images/4100066.jpg'), Path('/Users/jobdulo/.fastai/data/archive/images/6000179.jpg'), Path('/Users/jobdulo/.fastai/data/archive/images/4000066.jpg'), Path('/Users/jobdulo/.fastai/data/archive/images/6000192.jpg'), Path('/Users/jobdulo/.fastai/data/archive/images/9002114.jpg'), Path('/Users/jobdulo/.fastai/data/archive/images/6000186.jpg'), Path('/Users/jobdulo/.fastai/data/archive/images/6000182.jpg'), Path('/Users/jobdulo/.fastai/data/archive/images/6000196.jpg'), Path('/Users/jobdulo/.fastai/data/archive/images/6000141.jpg'), Path('/Users/jobdulo/.fastai/data/archive/images/6000155.jpg'), Path('/Users/jobdulo/.fastai/data/archive/images/8008099.jpg'), Path('/Users/jobdulo/.fastai/data/archive/images/6000169.jpg'), Path('/Users/jobdulo/.fastai/data/archive/images/3003731.jpg'), Path('/Users/jobdulo/.fastai/data/archive/images/9002474.jpg'), Path('/Users/jobdulo/.fastai/data/archive/images/0100740.jpg'), Path('/Users/jobdulo/.fastai/data/archive/images/0100026.jpg'), Path('/Users/jobdulo/.fastai/data/archive/images/6000343.jpg'), Path('/Users/jobdulo/.fastai/data/archive/images/1001944.jpg'), Path('/Users/jobdulo/.fastai/data/archive/images/5000175.jpg'), Path('/Users/jobdulo/.fastai/data/archive/images/5000149.jpg'), Path('/Users/jobdulo/.fastai/data/archive/images/9000288.jpg'), Path('/Users/jobdulo/.fastai/data/archive/images/6000237.jpg'), Path('/Users/jobdulo/.fastai/data/archive/images/6000223.jpg'), Path('/Users/jobdulo/.fastai/data/archive/images/0011088.jpg'), Path('/Users/jobdulo/.fastai/data/archive/images/5000203.jpg'), Path('/Users/jobdulo/.fastai/data/archive/images/9000868.jpg'), Path('/Users/jobdulo/.fastai/data/archive/images/6000035.jpg'), Path('/Users/jobdulo/.fastai/data/archive/images/6000021.jpg'), Path('/Users/jobdulo/.fastai/data/archive/images/6000009.jpg'), Path('/Users/jobdulo/.fastai/data/archive/images/6000008.jpg'), Path('/Users/jobdulo/.fastai/data/archive/images/6000020.jpg'), Path('/Users/jobdulo/.fastai/data/archive/images/5000202.jpg'), Path('/Users/jobdulo/.fastai/data/archive/images/6000034.jpg'), Path('/Users/jobdulo/.fastai/data/archive/images/0102234.jpg'), Path('/Users/jobdulo/.fastai/data/archive/images/6000222.jpg'), Path('/Users/jobdulo/.fastai/data/archive/images/6000236.jpg'), Path('/Users/jobdulo/.fastai/data/archive/images/9001034.jpg'), Path('/Users/jobdulo/.fastai/data/archive/images/0105003.jpg'), Path('/Users/jobdulo/.fastai/data/archive/images/3003122.jpg'), Path('/Users/jobdulo/.fastai/data/archive/images/0101488.jpg'), Path('/Users/jobdulo/.fastai/data/archive/images/6000342.jpg'), Path('/Users/jobdulo/.fastai/data/archive/images/5000174.jpg'), Path('/Users/jobdulo/.fastai/data/archive/images/0011116.jpg'), Path('/Users/jobdulo/.fastai/data/archive/images/0101463.jpg'), Path('/Users/jobdulo/.fastai/data/archive/images/6000168.jpg'), Path('/Users/jobdulo/.fastai/data/archive/images/6000154.jpg'), Path('/Users/jobdulo/.fastai/data/archive/images/6000140.jpg'), Path('/Users/jobdulo/.fastai/data/archive/images/3001319.jpg'), Path('/Users/jobdulo/.fastai/data/archive/images/6000197.jpg'), Path('/Users/jobdulo/.fastai/data/archive/images/6000183.jpg'), Path('/Users/jobdulo/.fastai/data/archive/images/6000195.jpg'), Path('/Users/jobdulo/.fastai/data/archive/images/0004069.jpg'), Path('/Users/jobdulo/.fastai/data/archive/images/6000181.jpg'), Path('/Users/jobdulo/.fastai/data/archive/images/0001677.jpg'), Path('/Users/jobdulo/.fastai/data/archive/images/6000156.jpg'), Path('/Users/jobdulo/.fastai/data/archive/images/6000142.jpg'), Path('/Users/jobdulo/.fastai/data/archive/images/0002395.jpg'), Path('/Users/jobdulo/.fastai/data/archive/images/3001131.jpg'), Path('/Users/jobdulo/.fastai/data/archive/images/6000354.jpg'), Path('/Users/jobdulo/.fastai/data/archive/images/5000162.jpg'), Path('/Users/jobdulo/.fastai/data/archive/images/5000176.jpg'), Path('/Users/jobdulo/.fastai/data/archive/images/6000340.jpg'), Path('/Users/jobdulo/.fastai/data/archive/images/0000794.jpg'), Path('/Users/jobdulo/.fastai/data/archive/images/0004294.jpg'), Path('/Users/jobdulo/.fastai/data/archive/images/8006302.jpg'), Path('/Users/jobdulo/.fastai/data/archive/images/9003635.jpg'), Path('/Users/jobdulo/.fastai/data/archive/images/6000220.jpg'), Path('/Users/jobdulo/.fastai/data/archive/images/5000016.jpg'), Path('/Users/jobdulo/.fastai/data/archive/images/6000234.jpg'), Path('/Users/jobdulo/.fastai/data/archive/images/9004199.jpg'), Path('/Users/jobdulo/.fastai/data/archive/images/6000208.jpg'), Path('/Users/jobdulo/.fastai/data/archive/images/3003322.jpg'), Path('/Users/jobdulo/.fastai/data/archive/images/9003423.jpg'), Path('/Users/jobdulo/.fastai/data/archive/images/0102544.jpg'), Path('/Users/jobdulo/.fastai/data/archive/images/6000022.jpg'), Path('/Users/jobdulo/.fastai/data/archive/images/6000036.jpg'), Path('/Users/jobdulo/.fastai/data/archive/images/5000200.jpg'), Path('/Users/jobdulo/.fastai/data/archive/images/6000037.jpg'), Path('/Users/jobdulo/.fastai/data/archive/images/5000201.jpg'), Path('/Users/jobdulo/.fastai/data/archive/images/6000023.jpg'), Path('/Users/jobdulo/.fastai/data/archive/images/9003378.jpg'), Path('/Users/jobdulo/.fastai/data/archive/images/6000209.jpg'), Path('/Users/jobdulo/.fastai/data/archive/images/6000235.jpg'), Path('/Users/jobdulo/.fastai/data/archive/images/6000221.jpg'), Path('/Users/jobdulo/.fastai/data/archive/images/9005245.jpg'), Path('/Users/jobdulo/.fastai/data/archive/images/6000341.jpg'), Path('/Users/jobdulo/.fastai/data/archive/images/6000355.jpg'), Path('/Users/jobdulo/.fastai/data/archive/images/5000163.jpg'), Path('/Users/jobdulo/.fastai/data/archive/images/3002411.jpg'), Path('/Users/jobdulo/.fastai/data/archive/images/5000188.jpg'), Path('/Users/jobdulo/.fastai/data/archive/images/0100030.jpg'), Path('/Users/jobdulo/.fastai/data/archive/images/9001619.jpg'), Path('/Users/jobdulo/.fastai/data/archive/images/6000143.jpg'), Path('/Users/jobdulo/.fastai/data/archive/images/3000945.jpg'), Path('/Users/jobdulo/.fastai/data/archive/images/6000157.jpg'), Path('/Users/jobdulo/.fastai/data/archive/images/6000180.jpg'), Path('/Users/jobdulo/.fastai/data/archive/images/6000194.jpg'), Path('/Users/jobdulo/.fastai/data/archive/images/8003131.jpg')]\n"
     ]
    }
   ],
   "source": [
    "image_files = get_image_files(path/\"images\", recurse=False)\n",
    "print(image_files)\n",
    "\n",
    "# sample a subset if DEBUG\n",
    "# if DEBUG: image_files = image_files[:10]"
   ]
  },
  {
   "cell_type": "code",
   "execution_count": 17,
   "id": "71788aca",
   "metadata": {},
   "outputs": [
    {
     "name": "stdout",
     "output_type": "stream",
     "text": [
      "{0: 'sky', 1: 'tree', 2: 'road', 3: 'grass', 4: 'water', 5: 'building', 6: 'mountain', 7: 'foreground', 8: 'unknown'}\n"
     ]
    }
   ],
   "source": [
    "print(params.BDD_CLASSES)"
   ]
  },
  {
   "cell_type": "code",
   "execution_count": 23,
   "id": "451ff088-4cb3-4739-b4e8-308d03645ffe",
   "metadata": {},
   "outputs": [
    {
     "data": {
      "text/html": [
       "\n",
       "<style>\n",
       "    /* Turns off some styling */\n",
       "    progress {\n",
       "        /* gets rid of default border in Firefox and Opera. */\n",
       "        border: none;\n",
       "        /* Needs to be in here for Safari polyfill so background images work as expected. */\n",
       "        background-size: auto;\n",
       "    }\n",
       "    progress:not([value]), progress:not([value])::-webkit-progress-bar {\n",
       "        background: repeating-linear-gradient(45deg, #7e7e7e, #7e7e7e 10px, #5c5c5c 10px, #5c5c5c 20px);\n",
       "    }\n",
       "    .progress-bar-interrupted, .progress-bar-interrupted::-webkit-progress-bar {\n",
       "        background: #F44336;\n",
       "    }\n",
       "</style>\n"
      ],
      "text/plain": [
       "<IPython.core.display.HTML object>"
      ]
     },
     "metadata": {},
     "output_type": "display_data"
    },
    {
     "data": {
      "text/html": [
       "\n",
       "    <div>\n",
       "      <progress value='159' class='' max='715' style='width:300px; height:20px; vertical-align: middle;'></progress>\n",
       "      22.24% [159/715 00:03&lt;00:11]\n",
       "    </div>\n",
       "    "
      ],
      "text/plain": [
       "<IPython.core.display.HTML object>"
      ]
     },
     "metadata": {},
     "output_type": "display_data"
    },
    {
     "name": "stdout",
     "output_type": "stream",
     "text": [
      "/Users/jobdulo/.fastai/data/archive/images/4000086.jpg\n",
      "/Users/jobdulo/.fastai/data/archive/masks/4000086.png\n",
      "/Users/jobdulo/.fastai/data/archive/images/6000199.jpg\n",
      "/Users/jobdulo/.fastai/data/archive/masks/6000199.png\n",
      "/Users/jobdulo/.fastai/data/archive/images/0101121.jpg\n",
      "/Users/jobdulo/.fastai/data/archive/masks/0101121.png\n",
      "/Users/jobdulo/.fastai/data/archive/images/6000172.jpg\n",
      "/Users/jobdulo/.fastai/data/archive/masks/6000172.png\n",
      "/Users/jobdulo/.fastai/data/archive/images/6000166.jpg\n",
      "/Users/jobdulo/.fastai/data/archive/masks/6000166.png\n",
      "/Users/jobdulo/.fastai/data/archive/images/0102170.jpg\n",
      "/Users/jobdulo/.fastai/data/archive/masks/0102170.png\n",
      "/Users/jobdulo/.fastai/data/archive/images/3001667.jpg\n",
      "/Users/jobdulo/.fastai/data/archive/masks/3001667.png\n",
      "/Users/jobdulo/.fastai/data/archive/images/5000191.jpg\n",
      "/Users/jobdulo/.fastai/data/archive/masks/5000191.png\n",
      "/Users/jobdulo/.fastai/data/archive/images/0101492.jpg\n",
      "/Users/jobdulo/.fastai/data/archive/masks/0101492.png\n",
      "/Users/jobdulo/.fastai/data/archive/images/0103468.jpg\n",
      "/Users/jobdulo/.fastai/data/archive/masks/0103468.png\n",
      "/Users/jobdulo/.fastai/data/archive/images/3001061.jpg\n",
      "/Users/jobdulo/.fastai/data/archive/masks/3001061.png\n",
      "/Users/jobdulo/.fastai/data/archive/images/2000042.jpg\n",
      "/Users/jobdulo/.fastai/data/archive/masks/2000042.png\n",
      "/Users/jobdulo/.fastai/data/archive/images/6000238.jpg\n",
      "/Users/jobdulo/.fastai/data/archive/masks/6000238.png\n",
      "/Users/jobdulo/.fastai/data/archive/images/1001195.jpg\n",
      "/Users/jobdulo/.fastai/data/archive/masks/1001195.png\n",
      "/Users/jobdulo/.fastai/data/archive/images/9003836.jpg\n",
      "/Users/jobdulo/.fastai/data/archive/masks/9003836.png\n",
      "/Users/jobdulo/.fastai/data/archive/images/6000204.jpg\n",
      "/Users/jobdulo/.fastai/data/archive/masks/6000204.png\n",
      "/Users/jobdulo/.fastai/data/archive/images/6000210.jpg\n",
      "/Users/jobdulo/.fastai/data/archive/masks/6000210.png\n",
      "/Users/jobdulo/.fastai/data/archive/images/3003448.jpg\n",
      "/Users/jobdulo/.fastai/data/archive/masks/3003448.png\n",
      "/Users/jobdulo/.fastai/data/archive/images/9004368.jpg\n",
      "/Users/jobdulo/.fastai/data/archive/masks/9004368.png\n",
      "/Users/jobdulo/.fastai/data/archive/images/6000006.jpg\n",
      "/Users/jobdulo/.fastai/data/archive/masks/6000006.png\n",
      "/Users/jobdulo/.fastai/data/archive/images/9004383.jpg\n",
      "/Users/jobdulo/.fastai/data/archive/masks/9004383.png\n",
      "/Users/jobdulo/.fastai/data/archive/images/6000012.jpg\n",
      "/Users/jobdulo/.fastai/data/archive/masks/6000012.png\n",
      "/Users/jobdulo/.fastai/data/archive/images/0010830.jpg\n",
      "/Users/jobdulo/.fastai/data/archive/masks/0010830.png\n",
      "/Users/jobdulo/.fastai/data/archive/images/6000013.jpg\n",
      "/Users/jobdulo/.fastai/data/archive/masks/6000013.png\n",
      "/Users/jobdulo/.fastai/data/archive/images/6000007.jpg\n",
      "/Users/jobdulo/.fastai/data/archive/masks/6000007.png\n",
      "/Users/jobdulo/.fastai/data/archive/images/9004427.jpg\n",
      "/Users/jobdulo/.fastai/data/archive/masks/9004427.png\n",
      "/Users/jobdulo/.fastai/data/archive/images/1000063.jpg\n",
      "/Users/jobdulo/.fastai/data/archive/masks/1000063.png\n",
      "/Users/jobdulo/.fastai/data/archive/images/9000127.jpg\n",
      "/Users/jobdulo/.fastai/data/archive/masks/9000127.png\n",
      "/Users/jobdulo/.fastai/data/archive/images/6000211.jpg\n",
      "/Users/jobdulo/.fastai/data/archive/masks/6000211.png\n",
      "/Users/jobdulo/.fastai/data/archive/images/6000205.jpg\n",
      "/Users/jobdulo/.fastai/data/archive/masks/6000205.png\n",
      "/Users/jobdulo/.fastai/data/archive/images/6000239.jpg\n",
      "/Users/jobdulo/.fastai/data/archive/masks/6000239.png\n",
      "/Users/jobdulo/.fastai/data/archive/images/0102039.jpg\n",
      "/Users/jobdulo/.fastai/data/archive/masks/0102039.png\n",
      "/Users/jobdulo/.fastai/data/archive/images/9001991.jpg\n",
      "/Users/jobdulo/.fastai/data/archive/masks/9001991.png\n",
      "/Users/jobdulo/.fastai/data/archive/images/2000043.jpg\n",
      "/Users/jobdulo/.fastai/data/archive/masks/2000043.png\n",
      "/Users/jobdulo/.fastai/data/archive/images/8000811.jpg\n",
      "/Users/jobdulo/.fastai/data/archive/masks/8000811.png\n",
      "/Users/jobdulo/.fastai/data/archive/images/5000147.jpg\n",
      "/Users/jobdulo/.fastai/data/archive/masks/5000147.png\n",
      "/Users/jobdulo/.fastai/data/archive/images/4100246.jpg\n",
      "/Users/jobdulo/.fastai/data/archive/masks/4100246.png\n",
      "/Users/jobdulo/.fastai/data/archive/images/5000190.jpg\n",
      "/Users/jobdulo/.fastai/data/archive/masks/5000190.png\n",
      "/Users/jobdulo/.fastai/data/archive/images/5000184.jpg\n",
      "/Users/jobdulo/.fastai/data/archive/masks/5000184.png\n",
      "/Users/jobdulo/.fastai/data/archive/images/6000167.jpg\n",
      "/Users/jobdulo/.fastai/data/archive/masks/6000167.png\n",
      "/Users/jobdulo/.fastai/data/archive/images/6000173.jpg\n",
      "/Users/jobdulo/.fastai/data/archive/masks/6000173.png\n",
      "/Users/jobdulo/.fastai/data/archive/images/0010950.jpg\n",
      "/Users/jobdulo/.fastai/data/archive/masks/0010950.png\n",
      "/Users/jobdulo/.fastai/data/archive/images/0007545.jpg\n",
      "/Users/jobdulo/.fastai/data/archive/masks/0007545.png\n",
      "/Users/jobdulo/.fastai/data/archive/images/6000198.jpg\n",
      "/Users/jobdulo/.fastai/data/archive/masks/6000198.png\n",
      "/Users/jobdulo/.fastai/data/archive/images/0102403.jpg\n",
      "/Users/jobdulo/.fastai/data/archive/masks/0102403.png\n",
      "/Users/jobdulo/.fastai/data/archive/images/6000159.jpg\n",
      "/Users/jobdulo/.fastai/data/archive/masks/6000159.png\n",
      "/Users/jobdulo/.fastai/data/archive/images/9002861.jpg\n",
      "/Users/jobdulo/.fastai/data/archive/masks/9002861.png\n",
      "/Users/jobdulo/.fastai/data/archive/images/6000165.jpg\n",
      "/Users/jobdulo/.fastai/data/archive/masks/6000165.png\n",
      "/Users/jobdulo/.fastai/data/archive/images/6000171.jpg\n",
      "/Users/jobdulo/.fastai/data/archive/masks/6000171.png\n",
      "/Users/jobdulo/.fastai/data/archive/images/0105146.jpg\n",
      "/Users/jobdulo/.fastai/data/archive/masks/0105146.png\n",
      "/Users/jobdulo/.fastai/data/archive/images/5000192.jpg\n",
      "/Users/jobdulo/.fastai/data/archive/masks/5000192.png\n",
      "/Users/jobdulo/.fastai/data/archive/images/0000176.jpg\n",
      "/Users/jobdulo/.fastai/data/archive/masks/0000176.png\n",
      "/Users/jobdulo/.fastai/data/archive/images/2000041.jpg\n",
      "/Users/jobdulo/.fastai/data/archive/masks/2000041.png\n",
      "/Users/jobdulo/.fastai/data/archive/images/1000505.jpg\n",
      "/Users/jobdulo/.fastai/data/archive/masks/1000505.png\n",
      "/Users/jobdulo/.fastai/data/archive/images/1000288.jpg\n",
      "/Users/jobdulo/.fastai/data/archive/masks/1000288.png\n",
      "/Users/jobdulo/.fastai/data/archive/images/3002594.jpg\n",
      "/Users/jobdulo/.fastai/data/archive/masks/3002594.png\n",
      "/Users/jobdulo/.fastai/data/archive/images/6000213.jpg\n",
      "/Users/jobdulo/.fastai/data/archive/masks/6000213.png\n",
      "/Users/jobdulo/.fastai/data/archive/images/6000207.jpg\n",
      "/Users/jobdulo/.fastai/data/archive/masks/6000207.png\n",
      "/Users/jobdulo/.fastai/data/archive/images/1000061.jpg\n",
      "/Users/jobdulo/.fastai/data/archive/masks/1000061.png\n",
      "/Users/jobdulo/.fastai/data/archive/images/6000039.jpg\n",
      "/Users/jobdulo/.fastai/data/archive/masks/6000039.png\n",
      "/Users/jobdulo/.fastai/data/archive/images/6000011.jpg\n",
      "/Users/jobdulo/.fastai/data/archive/masks/6000011.png\n",
      "/Users/jobdulo/.fastai/data/archive/images/6000005.jpg\n",
      "/Users/jobdulo/.fastai/data/archive/masks/6000005.png\n",
      "/Users/jobdulo/.fastai/data/archive/images/6000004.jpg\n",
      "/Users/jobdulo/.fastai/data/archive/masks/6000004.png\n",
      "/Users/jobdulo/.fastai/data/archive/images/6000010.jpg\n",
      "/Users/jobdulo/.fastai/data/archive/masks/6000010.png\n",
      "/Users/jobdulo/.fastai/data/archive/images/5000226.jpg\n",
      "/Users/jobdulo/.fastai/data/archive/masks/5000226.png\n",
      "/Users/jobdulo/.fastai/data/archive/images/6000038.jpg\n",
      "/Users/jobdulo/.fastai/data/archive/masks/6000038.png\n",
      "/Users/jobdulo/.fastai/data/archive/images/0100822.jpg\n",
      "/Users/jobdulo/.fastai/data/archive/masks/0100822.png\n",
      "/Users/jobdulo/.fastai/data/archive/images/6000206.jpg\n",
      "/Users/jobdulo/.fastai/data/archive/masks/6000206.png\n",
      "/Users/jobdulo/.fastai/data/archive/images/6000212.jpg\n",
      "/Users/jobdulo/.fastai/data/archive/masks/6000212.png\n",
      "/Users/jobdulo/.fastai/data/archive/images/0104463.jpg\n",
      "/Users/jobdulo/.fastai/data/archive/masks/0104463.png\n",
      "/Users/jobdulo/.fastai/data/archive/images/5000144.jpg\n",
      "/Users/jobdulo/.fastai/data/archive/masks/5000144.png\n",
      "/Users/jobdulo/.fastai/data/archive/images/5000150.jpg\n",
      "/Users/jobdulo/.fastai/data/archive/masks/5000150.png\n",
      "/Users/jobdulo/.fastai/data/archive/images/0000759.jpg\n",
      "/Users/jobdulo/.fastai/data/archive/masks/0000759.png\n",
      "/Users/jobdulo/.fastai/data/archive/images/6000170.jpg\n",
      "/Users/jobdulo/.fastai/data/archive/masks/6000170.png\n",
      "/Users/jobdulo/.fastai/data/archive/images/6000164.jpg\n",
      "/Users/jobdulo/.fastai/data/archive/masks/6000164.png\n",
      "/Users/jobdulo/.fastai/data/archive/images/6000158.jpg\n",
      "/Users/jobdulo/.fastai/data/archive/masks/6000158.png\n"
     ]
    },
    {
     "name": "stdout",
     "output_type": "stream",
     "text": [
      "/Users/jobdulo/.fastai/data/archive/images/1000882.jpg\n",
      "/Users/jobdulo/.fastai/data/archive/masks/1000882.png\n",
      "/Users/jobdulo/.fastai/data/archive/images/6000160.jpg\n",
      "/Users/jobdulo/.fastai/data/archive/masks/6000160.png\n",
      "/Users/jobdulo/.fastai/data/archive/images/6000174.jpg\n",
      "/Users/jobdulo/.fastai/data/archive/masks/6000174.png\n",
      "/Users/jobdulo/.fastai/data/archive/images/6000148.jpg\n",
      "/Users/jobdulo/.fastai/data/archive/masks/6000148.png\n",
      "/Users/jobdulo/.fastai/data/archive/images/5000197.jpg\n",
      "/Users/jobdulo/.fastai/data/archive/masks/5000197.png\n",
      "/Users/jobdulo/.fastai/data/archive/images/5000183.jpg\n",
      "/Users/jobdulo/.fastai/data/archive/masks/5000183.png\n",
      "/Users/jobdulo/.fastai/data/archive/images/3002340.jpg\n",
      "/Users/jobdulo/.fastai/data/archive/masks/3002340.png\n",
      "/Users/jobdulo/.fastai/data/archive/images/3001891.jpg\n",
      "/Users/jobdulo/.fastai/data/archive/masks/3001891.png\n",
      "/Users/jobdulo/.fastai/data/archive/images/0000952.jpg\n",
      "/Users/jobdulo/.fastai/data/archive/masks/0000952.png\n",
      "/Users/jobdulo/.fastai/data/archive/images/9004965.jpg\n",
      "/Users/jobdulo/.fastai/data/archive/masks/9004965.png\n",
      "/Users/jobdulo/.fastai/data/archive/images/5000168.jpg\n",
      "/Users/jobdulo/.fastai/data/archive/masks/5000168.png\n",
      "/Users/jobdulo/.fastai/data/archive/images/9004971.jpg\n",
      "/Users/jobdulo/.fastai/data/archive/masks/9004971.png\n",
      "/Users/jobdulo/.fastai/data/archive/images/2000044.jpg\n",
      "/Users/jobdulo/.fastai/data/archive/masks/2000044.png\n",
      "/Users/jobdulo/.fastai/data/archive/images/6000216.jpg\n",
      "/Users/jobdulo/.fastai/data/archive/masks/6000216.png\n",
      "/Users/jobdulo/.fastai/data/archive/images/0004498.jpg\n",
      "/Users/jobdulo/.fastai/data/archive/masks/0004498.png\n",
      "/Users/jobdulo/.fastai/data/archive/images/6000202.jpg\n",
      "/Users/jobdulo/.fastai/data/archive/masks/6000202.png\n",
      "/Users/jobdulo/.fastai/data/archive/images/0102566.jpg\n",
      "/Users/jobdulo/.fastai/data/archive/masks/0102566.png\n",
      "/Users/jobdulo/.fastai/data/archive/images/3003328.jpg\n",
      "/Users/jobdulo/.fastai/data/archive/masks/3003328.png\n",
      "/Users/jobdulo/.fastai/data/archive/images/6000014.jpg\n",
      "/Users/jobdulo/.fastai/data/archive/masks/6000014.png\n",
      "/Users/jobdulo/.fastai/data/archive/images/6000000.jpg\n",
      "/Users/jobdulo/.fastai/data/archive/masks/6000000.png\n",
      "/Users/jobdulo/.fastai/data/archive/images/9000875.jpg\n",
      "/Users/jobdulo/.fastai/data/archive/masks/9000875.png\n",
      "/Users/jobdulo/.fastai/data/archive/images/6000028.jpg\n",
      "/Users/jobdulo/.fastai/data/archive/masks/6000028.png\n",
      "/Users/jobdulo/.fastai/data/archive/images/6000029.jpg\n",
      "/Users/jobdulo/.fastai/data/archive/masks/6000029.png\n",
      "/Users/jobdulo/.fastai/data/archive/images/6000001.jpg\n",
      "/Users/jobdulo/.fastai/data/archive/masks/6000001.png\n",
      "/Users/jobdulo/.fastai/data/archive/images/6000015.jpg\n",
      "/Users/jobdulo/.fastai/data/archive/masks/6000015.png\n",
      "/Users/jobdulo/.fastai/data/archive/images/9004353.jpg\n",
      "/Users/jobdulo/.fastai/data/archive/masks/9004353.png\n",
      "/Users/jobdulo/.fastai/data/archive/images/6000203.jpg\n",
      "/Users/jobdulo/.fastai/data/archive/masks/6000203.png\n",
      "/Users/jobdulo/.fastai/data/archive/images/6000217.jpg\n",
      "/Users/jobdulo/.fastai/data/archive/masks/6000217.png\n",
      "/Users/jobdulo/.fastai/data/archive/images/9001001.jpg\n",
      "/Users/jobdulo/.fastai/data/archive/masks/9001001.png\n",
      "/Users/jobdulo/.fastai/data/archive/images/3002221.jpg\n",
      "/Users/jobdulo/.fastai/data/archive/masks/3002221.png\n",
      "/Users/jobdulo/.fastai/data/archive/images/9005273.jpg\n",
      "/Users/jobdulo/.fastai/data/archive/masks/9005273.png\n",
      "/Users/jobdulo/.fastai/data/archive/images/0100628.jpg\n",
      "/Users/jobdulo/.fastai/data/archive/masks/0100628.png\n",
      "/Users/jobdulo/.fastai/data/archive/images/1001794.jpg\n",
      "/Users/jobdulo/.fastai/data/archive/masks/1001794.png\n",
      "/Users/jobdulo/.fastai/data/archive/images/5000182.jpg\n",
      "/Users/jobdulo/.fastai/data/archive/masks/5000182.png\n",
      "/Users/jobdulo/.fastai/data/archive/images/5000196.jpg\n",
      "/Users/jobdulo/.fastai/data/archive/masks/5000196.png\n",
      "/Users/jobdulo/.fastai/data/archive/images/6000149.jpg\n",
      "/Users/jobdulo/.fastai/data/archive/masks/6000149.png\n",
      "/Users/jobdulo/.fastai/data/archive/images/9000928.jpg\n",
      "/Users/jobdulo/.fastai/data/archive/masks/9000928.png\n",
      "/Users/jobdulo/.fastai/data/archive/images/6000175.jpg\n",
      "/Users/jobdulo/.fastai/data/archive/masks/6000175.png\n",
      "/Users/jobdulo/.fastai/data/archive/images/6000161.jpg\n",
      "/Users/jobdulo/.fastai/data/archive/masks/6000161.png\n",
      "/Users/jobdulo/.fastai/data/archive/images/9005105.jpg\n",
      "/Users/jobdulo/.fastai/data/archive/masks/9005105.png\n",
      "/Users/jobdulo/.fastai/data/archive/images/1000105.jpg\n",
      "/Users/jobdulo/.fastai/data/archive/masks/1000105.png\n",
      "/Users/jobdulo/.fastai/data/archive/images/3001460.jpg\n",
      "/Users/jobdulo/.fastai/data/archive/masks/3001460.png\n",
      "/Users/jobdulo/.fastai/data/archive/images/6000188.jpg\n",
      "/Users/jobdulo/.fastai/data/archive/masks/6000188.png\n",
      "/Users/jobdulo/.fastai/data/archive/images/6000177.jpg\n",
      "/Users/jobdulo/.fastai/data/archive/masks/6000177.png\n",
      "/Users/jobdulo/.fastai/data/archive/images/6000163.jpg\n",
      "/Users/jobdulo/.fastai/data/archive/masks/6000163.png\n",
      "/Users/jobdulo/.fastai/data/archive/images/5000180.jpg\n",
      "/Users/jobdulo/.fastai/data/archive/masks/5000180.png\n",
      "/Users/jobdulo/.fastai/data/archive/images/5000194.jpg\n",
      "/Users/jobdulo/.fastai/data/archive/masks/5000194.png\n",
      "/Users/jobdulo/.fastai/data/archive/images/6000349.jpg\n",
      "/Users/jobdulo/.fastai/data/archive/masks/6000349.png\n",
      "/Users/jobdulo/.fastai/data/archive/images/8005616.jpg\n",
      "/Users/jobdulo/.fastai/data/archive/masks/8005616.png\n",
      "/Users/jobdulo/.fastai/data/archive/images/0100164.jpg\n",
      "/Users/jobdulo/.fastai/data/archive/masks/0100164.png\n",
      "/Users/jobdulo/.fastai/data/archive/images/6000201.jpg\n",
      "/Users/jobdulo/.fastai/data/archive/masks/6000201.png\n",
      "/Users/jobdulo/.fastai/data/archive/images/6000215.jpg\n",
      "/Users/jobdulo/.fastai/data/archive/masks/6000215.png\n",
      "/Users/jobdulo/.fastai/data/archive/images/1001184.jpg\n",
      "/Users/jobdulo/.fastai/data/archive/masks/1001184.png\n",
      "/Users/jobdulo/.fastai/data/archive/images/6000229.jpg\n",
      "/Users/jobdulo/.fastai/data/archive/masks/6000229.png\n",
      "/Users/jobdulo/.fastai/data/archive/images/6000003.jpg\n",
      "/Users/jobdulo/.fastai/data/archive/masks/6000003.png\n",
      "/Users/jobdulo/.fastai/data/archive/images/6000017.jpg\n",
      "/Users/jobdulo/.fastai/data/archive/masks/6000017.png\n",
      "/Users/jobdulo/.fastai/data/archive/images/6000016.jpg\n",
      "/Users/jobdulo/.fastai/data/archive/masks/6000016.png\n",
      "/Users/jobdulo/.fastai/data/archive/images/5000234.jpg\n",
      "/Users/jobdulo/.fastai/data/archive/masks/5000234.png\n",
      "/Users/jobdulo/.fastai/data/archive/images/6000002.jpg\n",
      "/Users/jobdulo/.fastai/data/archive/masks/6000002.png\n",
      "/Users/jobdulo/.fastai/data/archive/images/9002090.jpg\n",
      "/Users/jobdulo/.fastai/data/archive/masks/9002090.png\n",
      "/Users/jobdulo/.fastai/data/archive/images/3002020.jpg\n",
      "/Users/jobdulo/.fastai/data/archive/masks/3002020.png\n",
      "/Users/jobdulo/.fastai/data/archive/images/9000136.jpg\n",
      "/Users/jobdulo/.fastai/data/archive/masks/9000136.png\n",
      "/Users/jobdulo/.fastai/data/archive/images/6000228.jpg\n",
      "/Users/jobdulo/.fastai/data/archive/masks/6000228.png\n",
      "/Users/jobdulo/.fastai/data/archive/images/6000214.jpg\n",
      "/Users/jobdulo/.fastai/data/archive/masks/6000214.png\n",
      "/Users/jobdulo/.fastai/data/archive/images/6000200.jpg\n",
      "/Users/jobdulo/.fastai/data/archive/masks/6000200.png\n",
      "/Users/jobdulo/.fastai/data/archive/images/6000348.jpg\n",
      "/Users/jobdulo/.fastai/data/archive/masks/6000348.png\n",
      "/Users/jobdulo/.fastai/data/archive/images/4100280.jpg\n",
      "/Users/jobdulo/.fastai/data/archive/masks/4100280.png\n",
      "/Users/jobdulo/.fastai/data/archive/images/0005633.jpg\n",
      "/Users/jobdulo/.fastai/data/archive/masks/0005633.png\n",
      "/Users/jobdulo/.fastai/data/archive/images/5000195.jpg\n",
      "/Users/jobdulo/.fastai/data/archive/masks/5000195.png\n",
      "/Users/jobdulo/.fastai/data/archive/images/0103256.jpg\n",
      "/Users/jobdulo/.fastai/data/archive/masks/0103256.png\n",
      "/Users/jobdulo/.fastai/data/archive/images/5000181.jpg\n",
      "/Users/jobdulo/.fastai/data/archive/masks/5000181.png\n",
      "/Users/jobdulo/.fastai/data/archive/images/9004581.jpg\n",
      "/Users/jobdulo/.fastai/data/archive/masks/9004581.png\n",
      "/Users/jobdulo/.fastai/data/archive/images/6000162.jpg\n",
      "/Users/jobdulo/.fastai/data/archive/masks/6000162.png\n",
      "/Users/jobdulo/.fastai/data/archive/images/6000176.jpg\n",
      "/Users/jobdulo/.fastai/data/archive/masks/6000176.png\n",
      "/Users/jobdulo/.fastai/data/archive/images/3002154.jpg\n",
      "/Users/jobdulo/.fastai/data/archive/masks/3002154.png\n",
      "/Users/jobdulo/.fastai/data/archive/images/6000189.jpg\n",
      "/Users/jobdulo/.fastai/data/archive/masks/6000189.png\n"
     ]
    },
    {
     "name": "stdout",
     "output_type": "stream",
     "text": [
      "/Users/jobdulo/.fastai/data/archive/images/0004774.jpg\n",
      "/Users/jobdulo/.fastai/data/archive/masks/0004774.png\n",
      "/Users/jobdulo/.fastai/data/archive/images/8003836.jpg\n",
      "/Users/jobdulo/.fastai/data/archive/masks/8003836.png\n",
      "/Users/jobdulo/.fastai/data/archive/images/6000139.jpg\n",
      "/Users/jobdulo/.fastai/data/archive/masks/6000139.png\n",
      "/Users/jobdulo/.fastai/data/archive/images/9004294.jpg\n",
      "/Users/jobdulo/.fastai/data/archive/masks/9004294.png\n",
      "/Users/jobdulo/.fastai/data/archive/images/6000111.jpg\n",
      "/Users/jobdulo/.fastai/data/archive/masks/6000111.png\n",
      "/Users/jobdulo/.fastai/data/archive/images/6000105.jpg\n",
      "/Users/jobdulo/.fastai/data/archive/masks/6000105.png\n",
      "/Users/jobdulo/.fastai/data/archive/images/5000119.jpg\n",
      "/Users/jobdulo/.fastai/data/archive/masks/5000119.png\n",
      "/Users/jobdulo/.fastai/data/archive/images/6000313.jpg\n",
      "/Users/jobdulo/.fastai/data/archive/masks/6000313.png\n",
      "/Users/jobdulo/.fastai/data/archive/images/5000125.jpg\n",
      "/Users/jobdulo/.fastai/data/archive/masks/5000125.png\n",
      "/Users/jobdulo/.fastai/data/archive/images/5000131.jpg\n",
      "/Users/jobdulo/.fastai/data/archive/masks/5000131.png\n",
      "/Users/jobdulo/.fastai/data/archive/images/6000307.jpg\n",
      "/Users/jobdulo/.fastai/data/archive/masks/6000307.png\n",
      "/Users/jobdulo/.fastai/data/archive/images/6000298.jpg\n",
      "/Users/jobdulo/.fastai/data/archive/masks/6000298.png\n",
      "/Users/jobdulo/.fastai/data/archive/images/9001071.jpg\n",
      "/Users/jobdulo/.fastai/data/archive/masks/9001071.png\n",
      "/Users/jobdulo/.fastai/data/archive/images/0003423.jpg\n",
      "/Users/jobdulo/.fastai/data/archive/masks/0003423.png\n",
      "/Users/jobdulo/.fastai/data/archive/images/2000035.jpg\n",
      "/Users/jobdulo/.fastai/data/archive/masks/2000035.png\n"
     ]
    },
    {
     "ename": "KeyboardInterrupt",
     "evalue": "",
     "output_type": "error",
     "traceback": [
      "\u001b[0;31m---------------------------------------------------------------------------\u001b[0m",
      "\u001b[0;31mKeyboardInterrupt\u001b[0m                         Traceback (most recent call last)",
      "\u001b[0;32m/var/folders/5g/bk99qck554x2hb7z7_z7nt540000gn/T/ipykernel_18175/3387805754.py\u001b[0m in \u001b[0;36m<module>\u001b[0;34m\u001b[0m\n\u001b[0;32m----> 1\u001b[0;31m \u001b[0mtable\u001b[0m \u001b[0;34m=\u001b[0m \u001b[0m_create_table\u001b[0m\u001b[0;34m(\u001b[0m\u001b[0mimage_files\u001b[0m\u001b[0;34m,\u001b[0m \u001b[0mparams\u001b[0m\u001b[0;34m.\u001b[0m\u001b[0mBDD_CLASSES\u001b[0m\u001b[0;34m)\u001b[0m\u001b[0;34m\u001b[0m\u001b[0;34m\u001b[0m\u001b[0m\n\u001b[0m",
      "\u001b[0;32m/var/folders/5g/bk99qck554x2hb7z7_z7nt540000gn/T/ipykernel_18175/1331537103.py\u001b[0m in \u001b[0;36m_create_table\u001b[0;34m(image_files, class_labels)\u001b[0m\n\u001b[1;32m     33\u001b[0m                         \"predictions\": {\n\u001b[1;32m     34\u001b[0m                             \u001b[0;34m\"mask_data\"\u001b[0m\u001b[0;34m:\u001b[0m \u001b[0mmask_data\u001b[0m\u001b[0;34m,\u001b[0m\u001b[0;34m\u001b[0m\u001b[0;34m\u001b[0m\u001b[0m\n\u001b[0;32m---> 35\u001b[0;31m                             \u001b[0;34m\"class_labels\"\u001b[0m\u001b[0;34m:\u001b[0m \u001b[0mclass_labels\u001b[0m\u001b[0;34m,\u001b[0m\u001b[0;34m\u001b[0m\u001b[0;34m\u001b[0m\u001b[0m\n\u001b[0m\u001b[1;32m     36\u001b[0m                         }\n\u001b[1;32m     37\u001b[0m                     }\n",
      "\u001b[0;32m~/opt/anaconda3/envs/fastai/lib/python3.7/site-packages/wandb/sdk/data_types/image.py\u001b[0m in \u001b[0;36m__init__\u001b[0;34m(self, data_or_path, mode, caption, grouping, classes, boxes, masks)\u001b[0m\n\u001b[1;32m    155\u001b[0m                 \u001b[0mself\u001b[0m\u001b[0;34m.\u001b[0m\u001b[0m_initialize_from_path\u001b[0m\u001b[0;34m(\u001b[0m\u001b[0mdata_or_path\u001b[0m\u001b[0;34m)\u001b[0m\u001b[0;34m\u001b[0m\u001b[0;34m\u001b[0m\u001b[0m\n\u001b[1;32m    156\u001b[0m         \u001b[0;32melse\u001b[0m\u001b[0;34m:\u001b[0m\u001b[0;34m\u001b[0m\u001b[0;34m\u001b[0m\u001b[0m\n\u001b[0;32m--> 157\u001b[0;31m             \u001b[0mself\u001b[0m\u001b[0;34m.\u001b[0m\u001b[0m_initialize_from_data\u001b[0m\u001b[0;34m(\u001b[0m\u001b[0mdata_or_path\u001b[0m\u001b[0;34m,\u001b[0m \u001b[0mmode\u001b[0m\u001b[0;34m)\u001b[0m\u001b[0;34m\u001b[0m\u001b[0;34m\u001b[0m\u001b[0m\n\u001b[0m\u001b[1;32m    158\u001b[0m \u001b[0;34m\u001b[0m\u001b[0m\n\u001b[1;32m    159\u001b[0m         \u001b[0mself\u001b[0m\u001b[0;34m.\u001b[0m\u001b[0m_set_initialization_meta\u001b[0m\u001b[0;34m(\u001b[0m\u001b[0mgrouping\u001b[0m\u001b[0;34m,\u001b[0m \u001b[0mcaption\u001b[0m\u001b[0;34m,\u001b[0m \u001b[0mclasses\u001b[0m\u001b[0;34m,\u001b[0m \u001b[0mboxes\u001b[0m\u001b[0;34m,\u001b[0m \u001b[0mmasks\u001b[0m\u001b[0;34m)\u001b[0m\u001b[0;34m\u001b[0m\u001b[0;34m\u001b[0m\u001b[0m\n",
      "\u001b[0;32m~/opt/anaconda3/envs/fastai/lib/python3.7/site-packages/wandb/sdk/data_types/image.py\u001b[0m in \u001b[0;36m_initialize_from_data\u001b[0;34m(self, data, mode)\u001b[0m\n\u001b[1;32m    300\u001b[0m         \u001b[0mself\u001b[0m\u001b[0;34m.\u001b[0m\u001b[0mformat\u001b[0m \u001b[0;34m=\u001b[0m \u001b[0;34m\"png\"\u001b[0m\u001b[0;34m\u001b[0m\u001b[0;34m\u001b[0m\u001b[0m\n\u001b[1;32m    301\u001b[0m         \u001b[0;32massert\u001b[0m \u001b[0mself\u001b[0m\u001b[0;34m.\u001b[0m\u001b[0m_image\u001b[0m \u001b[0;32mis\u001b[0m \u001b[0;32mnot\u001b[0m \u001b[0;32mNone\u001b[0m\u001b[0;34m\u001b[0m\u001b[0;34m\u001b[0m\u001b[0m\n\u001b[0;32m--> 302\u001b[0;31m         \u001b[0mself\u001b[0m\u001b[0;34m.\u001b[0m\u001b[0m_image\u001b[0m\u001b[0;34m.\u001b[0m\u001b[0msave\u001b[0m\u001b[0;34m(\u001b[0m\u001b[0mtmp_path\u001b[0m\u001b[0;34m,\u001b[0m \u001b[0mtransparency\u001b[0m\u001b[0;34m=\u001b[0m\u001b[0;32mNone\u001b[0m\u001b[0;34m)\u001b[0m\u001b[0;34m\u001b[0m\u001b[0;34m\u001b[0m\u001b[0m\n\u001b[0m\u001b[1;32m    303\u001b[0m         \u001b[0mself\u001b[0m\u001b[0;34m.\u001b[0m\u001b[0m_set_file\u001b[0m\u001b[0;34m(\u001b[0m\u001b[0mtmp_path\u001b[0m\u001b[0;34m,\u001b[0m \u001b[0mis_tmp\u001b[0m\u001b[0;34m=\u001b[0m\u001b[0;32mTrue\u001b[0m\u001b[0;34m)\u001b[0m\u001b[0;34m\u001b[0m\u001b[0;34m\u001b[0m\u001b[0m\n\u001b[1;32m    304\u001b[0m \u001b[0;34m\u001b[0m\u001b[0m\n",
      "\u001b[0;32m~/opt/anaconda3/envs/fastai/lib/python3.7/site-packages/PIL/Image.py\u001b[0m in \u001b[0;36msave\u001b[0;34m(self, fp, format, **params)\u001b[0m\n\u001b[1;32m   2318\u001b[0m \u001b[0;34m\u001b[0m\u001b[0m\n\u001b[1;32m   2319\u001b[0m         \u001b[0;32mtry\u001b[0m\u001b[0;34m:\u001b[0m\u001b[0;34m\u001b[0m\u001b[0;34m\u001b[0m\u001b[0m\n\u001b[0;32m-> 2320\u001b[0;31m             \u001b[0msave_handler\u001b[0m\u001b[0;34m(\u001b[0m\u001b[0mself\u001b[0m\u001b[0;34m,\u001b[0m \u001b[0mfp\u001b[0m\u001b[0;34m,\u001b[0m \u001b[0mfilename\u001b[0m\u001b[0;34m)\u001b[0m\u001b[0;34m\u001b[0m\u001b[0;34m\u001b[0m\u001b[0m\n\u001b[0m\u001b[1;32m   2321\u001b[0m         \u001b[0;32mexcept\u001b[0m \u001b[0mException\u001b[0m\u001b[0;34m:\u001b[0m\u001b[0;34m\u001b[0m\u001b[0;34m\u001b[0m\u001b[0m\n\u001b[1;32m   2322\u001b[0m             \u001b[0;32mif\u001b[0m \u001b[0mopen_fp\u001b[0m\u001b[0;34m:\u001b[0m\u001b[0;34m\u001b[0m\u001b[0;34m\u001b[0m\u001b[0m\n",
      "\u001b[0;32m~/opt/anaconda3/envs/fastai/lib/python3.7/site-packages/PIL/PngImagePlugin.py\u001b[0m in \u001b[0;36m_save\u001b[0;34m(im, fp, filename, chunk, save_all)\u001b[0m\n\u001b[1;32m   1372\u001b[0m         \u001b[0m_write_multiple_frames\u001b[0m\u001b[0;34m(\u001b[0m\u001b[0mim\u001b[0m\u001b[0;34m,\u001b[0m \u001b[0mfp\u001b[0m\u001b[0;34m,\u001b[0m \u001b[0mchunk\u001b[0m\u001b[0;34m,\u001b[0m \u001b[0mrawmode\u001b[0m\u001b[0;34m)\u001b[0m\u001b[0;34m\u001b[0m\u001b[0;34m\u001b[0m\u001b[0m\n\u001b[1;32m   1373\u001b[0m     \u001b[0;32melse\u001b[0m\u001b[0;34m:\u001b[0m\u001b[0;34m\u001b[0m\u001b[0;34m\u001b[0m\u001b[0m\n\u001b[0;32m-> 1374\u001b[0;31m         \u001b[0mImageFile\u001b[0m\u001b[0;34m.\u001b[0m\u001b[0m_save\u001b[0m\u001b[0;34m(\u001b[0m\u001b[0mim\u001b[0m\u001b[0;34m,\u001b[0m \u001b[0m_idat\u001b[0m\u001b[0;34m(\u001b[0m\u001b[0mfp\u001b[0m\u001b[0;34m,\u001b[0m \u001b[0mchunk\u001b[0m\u001b[0;34m)\u001b[0m\u001b[0;34m,\u001b[0m \u001b[0;34m[\u001b[0m\u001b[0;34m(\u001b[0m\u001b[0;34m\"zip\"\u001b[0m\u001b[0;34m,\u001b[0m \u001b[0;34m(\u001b[0m\u001b[0;36m0\u001b[0m\u001b[0;34m,\u001b[0m \u001b[0;36m0\u001b[0m\u001b[0;34m)\u001b[0m \u001b[0;34m+\u001b[0m \u001b[0mim\u001b[0m\u001b[0;34m.\u001b[0m\u001b[0msize\u001b[0m\u001b[0;34m,\u001b[0m \u001b[0;36m0\u001b[0m\u001b[0;34m,\u001b[0m \u001b[0mrawmode\u001b[0m\u001b[0;34m)\u001b[0m\u001b[0;34m]\u001b[0m\u001b[0;34m)\u001b[0m\u001b[0;34m\u001b[0m\u001b[0;34m\u001b[0m\u001b[0m\n\u001b[0m\u001b[1;32m   1375\u001b[0m \u001b[0;34m\u001b[0m\u001b[0m\n\u001b[1;32m   1376\u001b[0m     \u001b[0;32mif\u001b[0m \u001b[0minfo\u001b[0m\u001b[0;34m:\u001b[0m\u001b[0;34m\u001b[0m\u001b[0;34m\u001b[0m\u001b[0m\n",
      "\u001b[0;32m~/opt/anaconda3/envs/fastai/lib/python3.7/site-packages/PIL/ImageFile.py\u001b[0m in \u001b[0;36m_save\u001b[0;34m(im, fp, tile, bufsize)\u001b[0m\n\u001b[1;32m    516\u001b[0m                     \u001b[0;31m# compress to Python file-compatible object\u001b[0m\u001b[0;34m\u001b[0m\u001b[0;34m\u001b[0m\u001b[0;34m\u001b[0m\u001b[0m\n\u001b[1;32m    517\u001b[0m                     \u001b[0;32mwhile\u001b[0m \u001b[0;32mTrue\u001b[0m\u001b[0;34m:\u001b[0m\u001b[0;34m\u001b[0m\u001b[0;34m\u001b[0m\u001b[0m\n\u001b[0;32m--> 518\u001b[0;31m                         \u001b[0ml\u001b[0m\u001b[0;34m,\u001b[0m \u001b[0ms\u001b[0m\u001b[0;34m,\u001b[0m \u001b[0md\u001b[0m \u001b[0;34m=\u001b[0m \u001b[0mencoder\u001b[0m\u001b[0;34m.\u001b[0m\u001b[0mencode\u001b[0m\u001b[0;34m(\u001b[0m\u001b[0mbufsize\u001b[0m\u001b[0;34m)\u001b[0m\u001b[0;34m\u001b[0m\u001b[0;34m\u001b[0m\u001b[0m\n\u001b[0m\u001b[1;32m    519\u001b[0m                         \u001b[0mfp\u001b[0m\u001b[0;34m.\u001b[0m\u001b[0mwrite\u001b[0m\u001b[0;34m(\u001b[0m\u001b[0md\u001b[0m\u001b[0;34m)\u001b[0m\u001b[0;34m\u001b[0m\u001b[0;34m\u001b[0m\u001b[0m\n\u001b[1;32m    520\u001b[0m                         \u001b[0;32mif\u001b[0m \u001b[0ms\u001b[0m\u001b[0;34m:\u001b[0m\u001b[0;34m\u001b[0m\u001b[0;34m\u001b[0m\u001b[0m\n",
      "\u001b[0;31mKeyboardInterrupt\u001b[0m: "
     ]
    }
   ],
   "source": [
    "table = _create_table(image_files, params.BDD_CLASSES)"
   ]
  },
  {
   "cell_type": "markdown",
   "id": "ff73cd37-6a72-44f7-a5cf-6abe7d327092",
   "metadata": {},
   "source": [
    "Finally, we will add the Table to our Artifact, log it to W&B and finish our `run`. "
   ]
  },
  {
   "cell_type": "code",
   "execution_count": 19,
   "id": "d4183e9c-75e4-48a8-a2e1-0f4492c0b5d0",
   "metadata": {},
   "outputs": [
    {
     "data": {
      "text/plain": [
       "<ManifestEntry digest: CsM4SHeMU/E1LWvHXkzBAA==>"
      ]
     },
     "execution_count": 19,
     "metadata": {},
     "output_type": "execute_result"
    }
   ],
   "source": [
    "raw_data_at.add(table, \"eda_table\")"
   ]
  },
  {
   "cell_type": "code",
   "execution_count": 20,
   "id": "e81ed9c8-6905-4841-a9f7-e3f3b9b6d927",
   "metadata": {},
   "outputs": [
    {
     "data": {
      "text/html": [
       "Waiting for W&B process to finish... <strong style=\"color:green\">(success).</strong>"
      ],
      "text/plain": [
       "<IPython.core.display.HTML object>"
      ]
     },
     "metadata": {},
     "output_type": "display_data"
    },
    {
     "name": "stderr",
     "output_type": "stream",
     "text": [
      "wandb: Network error (TransientError), entering retry loop.\n",
      "wandb: Network error (TransientError), entering retry loop.\n",
      "wandb: Network error (TransientError), entering retry loop.\n",
      "wandb: Network error (TransientError), entering retry loop.\n",
      "wandb: Network error (TransientError), entering retry loop.\n",
      "wandb: Network error (TransientError), entering retry loop.\n"
     ]
    },
    {
     "data": {
      "text/html": [
       "Synced <strong style=\"color:#cdcd00\">hearty-valley-2</strong>: <a href=\"https://wandb.ai/dulo/sem_seg/runs/3qz1qr8x\" target=\"_blank\">https://wandb.ai/dulo/sem_seg/runs/3qz1qr8x</a><br/>Synced 6 W&B file(s), 0 media file(s), 2856 artifact file(s) and 0 other file(s)"
      ],
      "text/plain": [
       "<IPython.core.display.HTML object>"
      ]
     },
     "metadata": {},
     "output_type": "display_data"
    },
    {
     "data": {
      "text/html": [
       "Find logs at: <code>./wandb/run-20230322_163454-3qz1qr8x/logs</code>"
      ],
      "text/plain": [
       "<IPython.core.display.HTML object>"
      ]
     },
     "metadata": {},
     "output_type": "display_data"
    }
   ],
   "source": [
    "run.log_artifact(raw_data_at)\n",
    "run.finish()"
   ]
  },
  {
   "cell_type": "code",
   "execution_count": null,
   "id": "894f1f21",
   "metadata": {},
   "outputs": [],
   "source": []
  }
 ],
 "metadata": {
  "kernelspec": {
   "display_name": "Python 3 (ipykernel)",
   "language": "python",
   "name": "python3"
  },
  "language_info": {
   "codemirror_mode": {
    "name": "ipython",
    "version": 3
   },
   "file_extension": ".py",
   "mimetype": "text/x-python",
   "name": "python",
   "nbconvert_exporter": "python",
   "pygments_lexer": "ipython3",
   "version": "3.7.15"
  }
 },
 "nbformat": 4,
 "nbformat_minor": 5
}
